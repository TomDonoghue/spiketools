{
  "cells": [
    {
      "cell_type": "markdown",
      "metadata": {},
      "source": [
        "\n# Statistical Analyses\n\nApply statistical analyses to spiking data.\n\nThis tutorial primarily covers the ``spiketools.stats`` module.\n"
      ]
    },
    {
      "cell_type": "markdown",
      "metadata": {},
      "source": [
        "## Applying statistical measures to spiking data\n\nThis tutorial covers applying statistical measures to spiking data.\n\n### Sections\n\nThis tutorial contains the following sections:\n\n1. Compute and plot different shuffles of spikes\n2. Compute t-test t- and p-values to test for an event-related firing rate change\n3. Compare first and last half of trials\n4. Run a 2-way ANOVA on multiple trials data\n5. Compute empirical p-value and z-score from distribution of surrogates\n6. Compute f-value from spiking data using 1-way ANOVA\n\n\n"
      ]
    },
    {
      "cell_type": "code",
      "execution_count": null,
      "metadata": {
        "collapsed": false
      },
      "outputs": [],
      "source": [
        "# Import auxiliary libraries\nimport numpy as np\n\n# Import statistics-related functions\nfrom spiketools.stats.shuffle import shuffle_spikes, shuffle_isis, shuffle_circular, shuffle_bins\nfrom spiketools.stats.permutations import compute_surrogate_stats\nfrom spiketools.stats.anova import create_dataframe, create_dataframe_bins, fit_anova\nfrom spiketools.stats.trials import compute_pre_post_ttest, compare_pre_post_activity\n\n# Import other spiketools functions\nfrom spiketools.sim.times import sim_spiketimes\nfrom spiketools.sim.train import sim_spiketrain_binom\nfrom spiketools.sim.trials import sim_trials_poisson\nfrom spiketools.measures.trials import compute_pre_post_rates\nfrom spiketools.spatial.occupancy import (compute_bin_edges, compute_bin_assignment,\n                                          compute_bin_counts_assgn)\n\n# Import plot function\nfrom spiketools.plts.trials import plot_rasters\nfrom spiketools.plts.stats import plot_surrogates\nfrom spiketools.plts.utils import make_axes"
      ]
    },
    {
      "cell_type": "markdown",
      "metadata": {},
      "source": [
        "First we will generate some test data, by simulating spike times.\n\nTo do so, we will simulate spike times at 10Hz for 100 seconds.\nIn doing so, we will use the `refractory` settings to prevent multiple\nspikes occurring too close together in time.\n\n\n"
      ]
    },
    {
      "cell_type": "code",
      "execution_count": null,
      "metadata": {
        "collapsed": false
      },
      "outputs": [],
      "source": [
        "# Simulate spike times\nspikes = sim_spiketimes(10, 100, 'poisson', refractory=0.001)"
      ]
    },
    {
      "cell_type": "markdown",
      "metadata": {},
      "source": [
        "### Compute and plot different shuffles of spikes\n\nHere, we will explore different shuffling approaches to create different shuffled\nsurrogates of our original spikes.\n\nThe approaches we will try are:\n\n- :func:`~.shuffle_isis`: shuffle spike times using permuted inter-spike intervals (isis)\n- :func:`~.shuffle_circular`: shuffle spikes by circularly shifting the spike train\n- :func:`~.shuffle_bins`: shuffle spikes by circularly shuffling bins of varying length\n\n\n"
      ]
    },
    {
      "cell_type": "code",
      "execution_count": null,
      "metadata": {
        "collapsed": false
      },
      "outputs": [],
      "source": [
        "# Shuffle spikes using the different methods - ISI, circular, and bins\nshuffled_isis = shuffle_isis(spikes, n_shuffles=10)\nshuffled_circular = shuffle_circular(spikes, shuffle_min=200, n_shuffles=10)\nshuffled_bins = shuffle_bins(spikes, bin_width_range=[0.5, 7], n_shuffles=10)"
      ]
    },
    {
      "cell_type": "code",
      "execution_count": null,
      "metadata": {
        "collapsed": false
      },
      "outputs": [],
      "source": [
        "# Plot original spike train\nplot_rasters(spikes, xlim=[0, 6], title='Non-shuffled', vline=None)"
      ]
    },
    {
      "cell_type": "code",
      "execution_count": null,
      "metadata": {
        "collapsed": false
      },
      "outputs": [],
      "source": [
        "# Plot the different shuffles - ISI, circular, and bin\nax1, ax2, ax3 = make_axes(3, 1, sharey=True, hspace=0.3, figsize=(14, 9))\nplot_rasters(shuffled_isis, xlim=[0, 6], title='ISI Shuffle', ax=ax1)\nplot_rasters(shuffled_circular, xlim=[0, 6], title='Circular Shuffle', ax=ax2)\nplot_rasters(shuffled_bins, xlim=[0, 6], title='Bin Shuffle', ax=ax3)"
      ]
    },
    {
      "cell_type": "markdown",
      "metadata": {},
      "source": [
        "In the above we ran different shuffling approaches by calling different shuffling functions.\n\nThere is also the more general :func:`~.shuffle_spikes` function, which can be used\ncall the different shuffling methods by passing an argument to define which method to use.\n\n\n"
      ]
    },
    {
      "cell_type": "code",
      "execution_count": null,
      "metadata": {
        "collapsed": false
      },
      "outputs": [],
      "source": [
        "# Shuffle spikes using the general `shuffle_spikes` function\nshuffled_spikes = shuffle_spikes(spikes, 'circular', shuffle_min=200, n_shuffles=10)\n\n# Plot shuffle spikes\nplot_rasters(shuffled_spikes, xlim=[0, 6], title='Shuffled Spikes')"
      ]
    },
    {
      "cell_type": "markdown",
      "metadata": {},
      "source": [
        "### Compute t-test t- and p-values to test for an event-related firing rate change\n\nFirst generate data that simulates a change in spike rate due to an event across 10 trials.\n\nIn this example case, across trials, we will simulate a change in firing rate\naround an event. Specifically, we will simulate trials with an average firing rate of\n5 Hz in the 3 second pre-event window, which changes to a firing rate of 10 Hz in a\n3 second post-event window.\n\n\n"
      ]
    },
    {
      "cell_type": "code",
      "execution_count": null,
      "metadata": {
        "collapsed": false
      },
      "outputs": [],
      "source": [
        "# Define simulation settings\nn_trials = 10\nrate_pre = 5\nrate_post = 10\ntime_pre = 3\ntime_post = 3\n\n# Simulate spiking activity across trials\ntrial_spikes = sim_trials_poisson(n_trials, rate_pre, rate_post, time_pre, time_post)"
      ]
    },
    {
      "cell_type": "code",
      "execution_count": null,
      "metadata": {
        "collapsed": false
      },
      "outputs": [],
      "source": [
        "# Plot the spike times across trials\nplot_rasters(trial_spikes, vline=0, title='Spikes per trial')"
      ]
    },
    {
      "cell_type": "markdown",
      "metadata": {},
      "source": [
        "Now that we have our simulated data, first we will calculate the firing rates across\nthe pre- and post-event time ranges.\n\nTo do so, we will use the :func:`~.compute_pre_post_rates` function.\n\n\n"
      ]
    },
    {
      "cell_type": "code",
      "execution_count": null,
      "metadata": {
        "collapsed": false
      },
      "outputs": [],
      "source": [
        "# Define settings for the pre- and post- event time ranges\npre_window = [-time_pre, 0]\npost_window = [0, time_post]\n\n# Compute firing rates (Hz) pre- and post-event for all trials\nfrs_pre, frs_post = compute_pre_post_rates(trial_spikes, pre_window, post_window)"
      ]
    },
    {
      "cell_type": "markdown",
      "metadata": {},
      "source": [
        "Next, we can compute the t-test between the pre- and post-event firing rates across trials.\n\nTo do this, we will use the :func:`~.compute_pre_post_ttest` function.\n\n\n"
      ]
    },
    {
      "cell_type": "code",
      "execution_count": null,
      "metadata": {
        "collapsed": false
      },
      "outputs": [],
      "source": [
        "# Compute a t-test between the pre- and post-event firing rates\ntval_t, pval_t = compute_pre_post_ttest(frs_pre, frs_post)\n\nprint('The t-value is {:1.3f}, with a p-value of {:.3e}'.format(tval_t, pval_t))"
      ]
    },
    {
      "cell_type": "markdown",
      "metadata": {},
      "source": [
        "In the above, we separately computed and then compared the firing rates around\nan event of interest.\n\nTo compute average firing rates and compare them all together, we can use the\n:func:`~.compare_pre_post_activity` function. This is a convenience function\nthat computes the average pre/post firing as well as the t-test comparing pre to post.\n\n\n"
      ]
    },
    {
      "cell_type": "code",
      "execution_count": null,
      "metadata": {
        "collapsed": false
      },
      "outputs": [],
      "source": [
        "# Compare pre & post stimulus firing\navg_pre, avg_post, tval_t, pval_t = compare_pre_post_activity(\\\n    trial_spikes, pre_window, post_window, avg_type='mean')\n\n# Print the average firing rates & t-test output\nprint('Average FR pre-event: {:1.3f}'.format(avg_pre))\nprint('Average FR post-event: {:1.3f}'.format(avg_post))\n\nprint('The t-value is {:1.3f}, with a p-value of {:.3e}'.format(tval_t, pval_t))"
      ]
    },
    {
      "cell_type": "markdown",
      "metadata": {},
      "source": [
        "### Run 2-way ANOVA on multiple trials data\n\nAnother way of testing whether there are event-related changes in firing rates\nrate is to run an ANOVA.\n\nTo do that, we will first organize the firing rates and the factors in a pandas DataFrame.\nTo do so, we will first organize the data into a dictionary.\n\n\n"
      ]
    },
    {
      "cell_type": "code",
      "execution_count": null,
      "metadata": {
        "collapsed": false
      },
      "outputs": [],
      "source": [
        "# Put the firing rates into a single array\npre_post_frs = np.concatenate([frs_pre, frs_post])\n\n# Create a boolean array to differentiate between pre- and -post event\nis_post_event = np.array([0] * len(frs_pre) + [1] * len(frs_pre))\n\n# Create array with trial number information\ntrial_idx = np.concatenate([np.arange(0, len(frs_pre)), np.arange(0, len(frs_pre))])\n\n# Put it all together into a dictionary\ndata = {\n    'fr' : pre_post_frs,\n    'is_post_event' : is_post_event,\n    'trial_idx' : trial_idx,\n}"
      ]
    },
    {
      "cell_type": "markdown",
      "metadata": {},
      "source": [
        "We can now turn our data into a dataframe using the :func:`~.create_dataframe` function.\n\n\n"
      ]
    },
    {
      "cell_type": "code",
      "execution_count": null,
      "metadata": {
        "collapsed": false
      },
      "outputs": [],
      "source": [
        "# Create the dataframe\ndf_pre_post = create_dataframe(data)\n\n# Visualize the first entries of the dataframe\ndf_pre_post.head()"
      ]
    },
    {
      "cell_type": "markdown",
      "metadata": {},
      "source": [
        "Now that we have our data organized into a dataframe, we can run an ANOVA.\n\nSpecifically, we will run an ANOVA to analyze whether there is an effect of the event on\nfiring rates, as well as checking whether there is an effect of trial index on firing rate.\n\nTo run the ANOVA, we need to define the formula we want to run.\n\nThen, using the dataframe and the formula, we can use\nthe :func:`~.fit_anova` function to fit our ANOVA.\n\nNote that in this example, we did not evaluate the effect of the interaction.\n\n\n"
      ]
    },
    {
      "cell_type": "code",
      "execution_count": null,
      "metadata": {
        "collapsed": false
      },
      "outputs": [],
      "source": [
        "# Define the formula for the ANOVA to fit\nformula = 'fr ~ C(is_post_event) + C(trial_idx)'\n\n# Run 2-way ANOVA without interaction on our dataframe\nanova_pre_post = fit_anova(df_pre_post, formula, return_type='results', anova_type=2)\n\n# Print out results\nprint('F-value, pre vs post: {:1.3f}'.format(anova_pre_post['F']['C(is_post_event)']))\nprint('P-value, pre vs post: {:.3e}'.format(anova_pre_post['PR(>F)']['C(is_post_event)']))\nprint('F-value, trial index: {:1.3f}'.format(anova_pre_post['F']['C(trial_idx)']))\nprint('P-value, trial index: {:.3e}'.format(anova_pre_post['PR(>F)']['C(trial_idx)']))"
      ]
    },
    {
      "cell_type": "markdown",
      "metadata": {},
      "source": [
        "### Compute the empirical p-value and z-score from distribution of surrogates\n\nNext, we will use surrogate data to test whether our analysis reflects a significant effect.\n\nFirst we calculate the change in firing rate, comparing the pre- and post-event rates as\n(delta = post firing rate - pre firing rate).\n\nTo test this, we will compute the average event related firing rate difference, and then\ncompute the empirical p-value and z-score for this using surrogates.\n\n\n"
      ]
    },
    {
      "cell_type": "code",
      "execution_count": null,
      "metadata": {
        "collapsed": false
      },
      "outputs": [],
      "source": [
        "# Get average firing rate difference between post and pre event\nfr_diff = np.mean(frs_post) - np.mean(frs_pre)\nprint('Difference in post-pre firing rate of real data: {:1.2f}'.format(fr_diff))"
      ]
    },
    {
      "cell_type": "markdown",
      "metadata": {},
      "source": [
        "To compare the delta firing rate, we need to generate our distribution of surrogates.\n\nTo do so, we will shuffle the data such that each individual trial gets shuffled, to create\nsurrogates with randomly re-organized trial data. We can then compute our measure(s) of\ninterest on this surrogate data, to compare to the real data results.\n\n\n"
      ]
    },
    {
      "cell_type": "code",
      "execution_count": null,
      "metadata": {
        "collapsed": false
      },
      "outputs": [],
      "source": [
        "# Settings for shuffling the data\nn_shuffles = 100\n\n# Create surrogate data and compute measures of interest\nshuffled_diffs = []\nfor shuffle_ind in range(n_shuffles):\n\n    # Shuffle the spike data - shuffle each trial to make a new set of shuffled trials\n    shuffled_trials = []\n    for t_ind in range(n_trials):\n        shuffled_trials.append(shuffle_isis(trial_spikes[t_ind], n_shuffles=1, start_time=-3))\n\n    # Compute and collect the measure of interest on the shuffled data\n    shuffled_frs_pre, shuffled_frs_post = compute_pre_post_rates(\\\n        shuffled_trials, pre_window, post_window)\n    shuffled_diffs.append(np.mean(shuffled_frs_post) - np.mean(shuffled_frs_pre))"
      ]
    },
    {
      "cell_type": "markdown",
      "metadata": {},
      "source": [
        "Now that we have shuffled spikes, we can compute our measure of interest on the\nsurrogate data. This will give us a surrogate distribution which we can then use\nto compute the empirical p-value and the z-score, to examine if the effect in the\nreal data is greater than expected by change (in the shuffles).\n\n\n"
      ]
    },
    {
      "cell_type": "code",
      "execution_count": null,
      "metadata": {
        "collapsed": false
      },
      "outputs": [],
      "source": [
        "# Check the range of the surrogate measures\nprint('Minimum delta FR across surrogates: {:1.3f}'.format(np.min(shuffled_diffs)))\nprint('Maximum delta FR across surrogates: {:1.3f}'.format(np.max(shuffled_diffs)))"
      ]
    },
    {
      "cell_type": "markdown",
      "metadata": {},
      "source": [
        "Now we can compute the empirical p-value and z-score of change in firing rate from\nthe distribution of surrogates, using the :func:`~.compute_surrogate_stats` function.\n\n\n"
      ]
    },
    {
      "cell_type": "code",
      "execution_count": null,
      "metadata": {
        "collapsed": false
      },
      "outputs": [],
      "source": [
        "# Calculate empirical p-value and z-score of difference in firing rate with respect to surrogates\nsurr_pval, surr_zscore = compute_surrogate_stats(fr_diff, shuffled_diffs)\nprint(surr_pval, surr_zscore)\n\nprint('For the surrogate comparison, the z-score is {:1.3f}, and the p-value is {:.3e}'.format(\\\n    surr_zscore, surr_pval))"
      ]
    },
    {
      "cell_type": "markdown",
      "metadata": {},
      "source": [
        "Lastly, plot the distribution of surrogates with calculated delta firing rate.\n\n\n"
      ]
    },
    {
      "cell_type": "code",
      "execution_count": null,
      "metadata": {
        "collapsed": false
      },
      "outputs": [],
      "source": [
        "# Plot distribution of surrogates, with calculated delta firing rate & p-value\nplot_surrogates(shuffled_diffs, fr_diff, surr_pval)"
      ]
    },
    {
      "cell_type": "markdown",
      "metadata": {},
      "source": [
        "In the above, we can see that there is clearly an effect in the real data, different\nfrom the surrogates!\n\n\n"
      ]
    },
    {
      "cell_type": "markdown",
      "metadata": {},
      "source": [
        "### Compute f-value from spiking data using 1-way ANOVA\n\nIn this example, we will compute a statistical test of whether there is an effect\nof spatial position on neuron firing.\n\nTo do so, we will simulate spike trains across trials, with (simulated)\ncorresponding position data.\n\nThe simulated data will then be organized (per trial, per bin) into dataframes,\nwhich we can then use to fit the ANOVA.\n\nFor this example, we will generate a new set of spiking data.\nNote that this simulation is similar to the one used in the Spatial Analysis tutorial.\n\n\n"
      ]
    },
    {
      "cell_type": "code",
      "execution_count": null,
      "metadata": {
        "collapsed": false
      },
      "outputs": [],
      "source": [
        "# Generate some position data\nx_pos = np.linspace(0, 15, 8000)\ny_pos = np.linspace(0, 5, 8000)\nposition = np.array([x_pos, y_pos])\n\n# Define the spatial bins to use\nbins = [3, 5]\nn_bins = bins[0] * bins[1]\n\n# Compute spatial bin edges\nx_edges, y_edges = compute_bin_edges(position, bins)\n\n# Set number of trials\nn_trials = 10\nbin_firing_all = np.zeros([n_trials, n_bins])\n\nfor ind in range(n_trials):\n\n    # Simulate a spike train\n    spike_train = sim_spiketrain_binom(0.005, n_samples=8000)\n\n    # Get spike position bins\n    spike_bins = np.where(spike_train == 1)[0]\n\n    # Get x and y position bins corresponding to spike positions\n    spike_x, spike_y = compute_bin_assignment(\\\n        position[:, spike_bins], x_edges, y_edges, include_edge=True)\n\n    # Compute firing rate in each bin\n    bin_firing = (compute_bin_counts_assgn(bins=bins, xbins=spike_x, ybins=spike_y)).flatten()\n    bin_firing_all[ind, :] = bin_firing"
      ]
    },
    {
      "cell_type": "markdown",
      "metadata": {},
      "source": [
        "For the data, since we have simulated and organized it into spatial bins, we can turn it into\ndataframe using the :func:`~.create_dataframe_bins` function.\n\n\n"
      ]
    },
    {
      "cell_type": "code",
      "execution_count": null,
      "metadata": {
        "collapsed": false
      },
      "outputs": [],
      "source": [
        "# Organize spiking data into dataframe\ndf = create_dataframe_bins(bin_firing_all, dropna=True)\n\n# Visualize the first few entries of the dataframe\ndf.head()"
      ]
    },
    {
      "cell_type": "markdown",
      "metadata": {},
      "source": [
        "Once we have the dataframe, we can fit the ANOVA using the\n:func:`~.fit_anova` function, as above.\n\nHere, we want to test whether there is a relationship between spiking firing and spatial\nposition. To do so, we can test the formula 'fr ~ C(bin)'.\n\n\n"
      ]
    },
    {
      "cell_type": "code",
      "execution_count": null,
      "metadata": {
        "collapsed": false
      },
      "outputs": [],
      "source": [
        "# Compute f_value from spiking data using ANOVA\nf_val = fit_anova(df, 'fr ~ C(bin)', feature='C(bin)', return_type='f_val', anova_type=1)\nprint('F-value: {:.3}'.format(f_val))"
      ]
    },
    {
      "cell_type": "markdown",
      "metadata": {},
      "source": [
        "Note that the procedure we employed here could also be combined with what we did above\nto shuffle the data, in order to calculate the ANOVA F-value across surrogates and\nthen compare to the real data.\n\n\n"
      ]
    },
    {
      "cell_type": "markdown",
      "metadata": {},
      "source": [
        "### Conclusion\n\nIn this tutorial, we covered statistical measures available in the spiketools module.\n\n\n"
      ]
    }
  ],
  "metadata": {
    "kernelspec": {
      "display_name": "Python 3",
      "language": "python",
      "name": "python3"
    },
    "language_info": {
      "codemirror_mode": {
        "name": "ipython",
        "version": 3
      },
      "file_extension": ".py",
      "mimetype": "text/x-python",
      "name": "python",
      "nbconvert_exporter": "python",
      "pygments_lexer": "ipython3",
      "version": "3.8.11"
    }
  },
  "nbformat": 4,
  "nbformat_minor": 0
}