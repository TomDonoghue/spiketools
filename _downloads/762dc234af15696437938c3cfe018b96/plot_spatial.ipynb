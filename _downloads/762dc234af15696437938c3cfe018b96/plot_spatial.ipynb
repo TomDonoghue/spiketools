{
  "cells": [
    {
      "cell_type": "code",
      "execution_count": null,
      "metadata": {
        "collapsed": false
      },
      "outputs": [],
      "source": [
        "%matplotlib inline"
      ]
    },
    {
      "cell_type": "markdown",
      "metadata": {},
      "source": [
        "\n# Spatial Analyses\n\nAnalyze spatial data and apply spatial measures to spiking data.\n\nThis tutorial primarily covers the ``spiketools.spatial`` module.\n"
      ]
    },
    {
      "cell_type": "markdown",
      "metadata": {},
      "source": [
        "## Apply spatial measures to spatial data\n\n### Sections\n\nThis tutorial contains the following sections:\n\n1. Compute and plot distances and speed using position\n2. Divide position in spatial bin edges\n3. Compute spatial bin assignment using spatial bin edges\n4. Compute time in each timestamp sample\n5. Compute and plot occupancy and position counts\n6. Compute 2D and 1D spatial information\n\n\n"
      ]
    },
    {
      "cell_type": "code",
      "execution_count": null,
      "metadata": {
        "collapsed": false
      },
      "outputs": [],
      "source": [
        "# Import auxiliary libraries\nimport numpy as np\nimport matplotlib.pyplot as plt\n\n# Import functions from spiketools.spatial\nfrom spiketools.spatial.position import (compute_distance, compute_distances,\n                                         compute_cumulative_distances, compute_speed)\nfrom spiketools.spatial.occupancy import (compute_bin_edges, compute_bin_assignment,\n                                          compute_bin_counts_assgn, compute_bin_counts_pos,\n                                          normalize_bin_counts, compute_occupancy)\nfrom spiketools.spatial.utils import (compute_pos_ranges, compute_bin_width,\n                                      compute_sample_durations)\nfrom spiketools.spatial.information import compute_spatial_information\n\n# Import spiketrain simulation function\nfrom spiketools.sim.train import sim_spiketrain_binom\n\n# Import plotting functions\nfrom spiketools.plts.spatial import plot_positions, plot_heatmap, plot_position_by_time\nfrom spiketools.plts.utils import make_axes"
      ]
    },
    {
      "cell_type": "markdown",
      "metadata": {},
      "source": [
        "To start, we will first define some simulated data to work with\n\n\n"
      ]
    },
    {
      "cell_type": "code",
      "execution_count": null,
      "metadata": {
        "collapsed": false
      },
      "outputs": [],
      "source": [
        "# Define some position data\nx_pos = np.array([0, 1, 2, 3, 4, 3.2, 2.1, 2, 1, 0, 0, 0.1, 1, 1.5, 1, 1])\ny_pos = np.array([0, 0, 0.1, 1, 1.5, 1, 1, 2.1, 2, 1, 0, 1, 2, 3, 4, 3.2])\nposition = np.array([x_pos, y_pos])\n\n# Set the time width of each position sample\nbin_widths = np.array([1, 1, 1, 2, 1.5, 1, 1, 1, 2, 1, 1, 1, 1, 1, 0.5])\n\n# Set number of spatial bins, 3 x-bins and 5 y-bins\nbins = [3, 5]\n\n# Define timestamps\ntimestamps = np.array([0, 1, 2, 3, 5, 6.5, 7.5, 8.5, 9.5, 11.5, 12.5, 13.5, 14.5, 15.5, 16.5, 17])"
      ]
    },
    {
      "cell_type": "markdown",
      "metadata": {},
      "source": [
        "### Compute and plot distances and speed using position\n\nUse x- and y-position to compute distance between two or more points,\ncumulative distance traveled and speed.\n\n\n"
      ]
    },
    {
      "cell_type": "code",
      "execution_count": null,
      "metadata": {
        "collapsed": false
      },
      "outputs": [],
      "source": [
        "# Look at the range of our x and y positions\nranges = compute_pos_ranges(position)\n\nprint('The x-position ranges from {:1.1f} to {:1.1f}'.format(ranges[0][0], ranges[0][1]))\nprint('The y-position ranges from {:1.1f} to {:1.1f}'.format(ranges[1][0], ranges[1][1]))"
      ]
    },
    {
      "cell_type": "code",
      "execution_count": null,
      "metadata": {
        "collapsed": false
      },
      "outputs": [],
      "source": [
        "# Plot positions (coordinates marked x are the actual points)\nplot_positions(position, alpha=1, ls='-', marker='x', color='tab:gray',\n               markersize=10, xlabel='x-position', ylabel='y-position',\n               legend=['coordinates'], title='Tracking')"
      ]
    },
    {
      "cell_type": "code",
      "execution_count": null,
      "metadata": {
        "collapsed": false
      },
      "outputs": [],
      "source": [
        "# Plot x-position by time\nplot_position_by_time(timestamps, x_pos, alpha=1, ls='-', marker='x', color='tab:gray',\n                      markersize=10,  xlabel='time', ylabel='x-position',\n                      legend=['coordinates'], title='X-position by time')\n\n# Plot y-position by time\nplot_position_by_time(timestamps, y_pos, alpha=1, ls='-', marker='x', color='tab:gray',\n                      markersize=10, xlabel='time', ylabel='y-position',\n                      legend=['coordinates'], title='Y-position by time')"
      ]
    },
    {
      "cell_type": "markdown",
      "metadata": {},
      "source": [
        "With our position data, we can use some function to compute distance measures, including:\n\n- :func:`~.compute_distance`: which computes the distance between two points\n- :func:`~.compute_distances`: which computes distances across a sequence of positions\n- :func:`~.compute_cumulative_distances`: which computes cumulative distance across positions\n\n\n"
      ]
    },
    {
      "cell_type": "code",
      "execution_count": null,
      "metadata": {
        "collapsed": false
      },
      "outputs": [],
      "source": [
        "# Compute distance between start and end point\ndist_start_end = compute_distance(x_pos[0], y_pos[0], x_pos[-1], y_pos[-1])\n\n# Compute distance traveled at each point\ndist_traveled = compute_distances(x_pos, y_pos)\n\n# Compute total distance traveled\ncumulative_dist_traveled = compute_cumulative_distances(x_pos, y_pos)\n\n# Compute speed at each point\nbin_widths = np.array([1, 1, 1, 2, 1.5, 1, 1, 1, 2, 1, 1, 1, 1, 1, 0.5])\nspeeds = compute_speed(x_pos, y_pos, bin_widths)"
      ]
    },
    {
      "cell_type": "code",
      "execution_count": null,
      "metadata": {
        "collapsed": false
      },
      "outputs": [],
      "source": [
        "# Plot distance and speed measures\nax1, ax2, ax3 = make_axes(3, 1, sharex=True, hspace=0.4, figsize=(8, 6))\n\n# Plot distance traveled at each time\nplot_position_by_time(timestamps[1:], dist_traveled,\n                      ax=ax1, alpha=1, ls='-', marker='x', color='tab:pink', markersize=10,\n                      title='Distance traveled at each point',\n                      xlabel='time (t)', ylabel='speed (u/t)')\n\n# Plot cumulative distance traveled per time\nplot_position_by_time(timestamps[1:], cumulative_dist_traveled,\n                      ax=ax2, alpha=1, ls='-', marker='x', color='tab:olive', markersize=10,\n                      title='Cumulative distance traveled at each point',\n                      xlabel='time (t)', ylabel='speed (u/t)')\n\n# Plot speed at each time point\nplot_position_by_time(timestamps[1:], speeds,\n                      ax=ax3, alpha=1, ls='-', marker='x', color='tab:cyan', markersize=10,\n                      title='Speed at each point', xlabel='time (t)', ylabel='speed (u/t)')"
      ]
    },
    {
      "cell_type": "markdown",
      "metadata": {},
      "source": [
        "### Divide position in spatial bin edges and plot\n\nNow we can start binning our position data.\n\nTo do so, we will compute x- and y- spatial bin edges, using the\n:func:`~.compute_bin_edges` function.\n\nOnce we have our bin edges, we can compute the bin widths using the\n:func:`~.compute_bin_width` function.\n\n\n"
      ]
    },
    {
      "cell_type": "code",
      "execution_count": null,
      "metadata": {
        "collapsed": false
      },
      "outputs": [],
      "source": [
        "# Compute spatial bin edges\nx_edges, y_edges = compute_bin_edges(position, bins)\n\n# Compute the width of each spatial bin\nx_bins_spatial_width = compute_bin_width(x_edges)\ny_bins_spatial_width = compute_bin_width(y_edges)\nprint('The x spatial bins have width = {:.3}'.format(x_bins_spatial_width))\nprint('The y spatial bins have width = {:.3}'.format(y_bins_spatial_width))"
      ]
    },
    {
      "cell_type": "markdown",
      "metadata": {},
      "source": [
        "Now that we have created our bin definition, we can plot the spatial grid.\n\n\n"
      ]
    },
    {
      "cell_type": "code",
      "execution_count": null,
      "metadata": {
        "collapsed": false
      },
      "outputs": [],
      "source": [
        "# Plot grid of spatial bins with tracking on top\nplot_positions(position, x_bins=x_edges, y_bins=y_edges,\n               alpha=1, ls='-', marker='x', color='tab:gray',\n               markersize=10, xlabel='x-position', ylabel='y-position',\n               legend=['Tracking'], legend_loc='upper left',\n               title='Tracking and spatial bins')"
      ]
    },
    {
      "cell_type": "markdown",
      "metadata": {},
      "source": [
        "### Compute spatial bin assignment using spatial bin edges\n\nNext, we will compute the spatial bin assignment for the position data using the\npreviously computed spatial bin edges.\n\nTo do so, we will use the :func:`~.compute_bin_assignment` function.\n\n\n"
      ]
    },
    {
      "cell_type": "code",
      "execution_count": null,
      "metadata": {
        "collapsed": false
      },
      "outputs": [],
      "source": [
        "# Now let us check where the first 7 position data points using the same x_edges and y_edges\nn_points = 7\nx_bins, y_bins = compute_bin_assignment(position[:, :n_points], x_edges, y_edges)\n\n# We can check they match the positions in plot (ii)\nfor ind in range(0, n_points):\n    print('The point (x, y) = ({:1.1f}, {:1.1f}) is in x_bin {:1d} and y_bin {:1d}.'.format(\\\n          position[0, ind], position[1, ind], x_bins[ind], y_bins[ind]))"
      ]
    },
    {
      "cell_type": "markdown",
      "metadata": {},
      "source": [
        "### Compute duration of each sample\n\nCompute the time duration of the position samples, using the\n:func:`~.compute_sample_durations` function.\n\n\n"
      ]
    },
    {
      "cell_type": "code",
      "execution_count": null,
      "metadata": {
        "collapsed": false
      },
      "outputs": [],
      "source": [
        "# Compute the durations of the timestamps\nsample_times = compute_sample_durations(timestamps)\nprint('The time durations of position samples are: ', sample_times)"
      ]
    },
    {
      "cell_type": "markdown",
      "metadata": {},
      "source": [
        "### Compute and plot occupancy and position counts\n\nNow we are interested in how much time was spent in each bin of the spatial grid.\n\nTo measure this, we will compute the occupancy across the spatial bins, using\nthe :func:`~.compute_occupancy` function.\n\nFor 2D case, compute occupancy using position, timestamps, bins, speed, and a speed threshold.\nAlso compute 2D position bin occurrence counts (no speed thresholding).\nPlot heatmaps of 2D occupancy and 2D position bin occurrence counts.\n\n\n"
      ]
    },
    {
      "cell_type": "code",
      "execution_count": null,
      "metadata": {
        "collapsed": false
      },
      "outputs": [],
      "source": [
        "# Update speed to match length of position data\nspeeds = np.insert(speeds, 0, 0)\n\n# Define speed threshold, used to position values for speed less than the threshold\nspeed_thresh =.5e-3\n\n# Compute the 2D occupancy\noccupancy = compute_occupancy(position, timestamps, bins,\n                              speed=speeds, speed_threshold=speed_thresh)\n\n# Plot the compute 2D occupancy\nplot_heatmap(occupancy, cbar=True,\n             title='Occupancy heatmap w/ speed threshold')"
      ]
    },
    {
      "cell_type": "markdown",
      "metadata": {},
      "source": [
        "Another way to explore occupancy measures is to check the number of\noccurrences with each spatial bin.\n\nThis can be computed with the :func:`~.compute_bin_counts_pos` function.\n\n\n"
      ]
    },
    {
      "cell_type": "code",
      "execution_count": null,
      "metadata": {
        "collapsed": false
      },
      "outputs": [],
      "source": [
        "# Compute the 2D position bin occurrence counts\nbin_counts_pos = compute_bin_counts_pos(position, bins)\n\n# Plot the 2D position bin occurrence counts\nplot_heatmap(bin_counts_pos, cbar=True,\n             title='Position bin occurrence counts heatmap')"
      ]
    },
    {
      "cell_type": "markdown",
      "metadata": {},
      "source": [
        "We can also compute occupancy for 1D data.\n\nFor this examples, we will compute 1D occupancy using the x-position data with the\nsame timestamps, x-bins, speed, and speed threshold as before.\n\n\n"
      ]
    },
    {
      "cell_type": "code",
      "execution_count": null,
      "metadata": {
        "collapsed": false
      },
      "outputs": [],
      "source": [
        "# Compute the 1D occupancy\noccupancy_1d = compute_occupancy(position[0], timestamps, bins[0],\n                                 speed=speeds, speed_threshold=speed_thresh)\n\n# Plot the 1D occupancy\nplot_heatmap(occupancy_1d, title='X-occupancy heatmap w/ speed threshold')"
      ]
    },
    {
      "cell_type": "markdown",
      "metadata": {},
      "source": [
        "As before, we can also check the bin occurrence counts for the 1D data.\n\n\n"
      ]
    },
    {
      "cell_type": "code",
      "execution_count": null,
      "metadata": {
        "collapsed": false
      },
      "outputs": [],
      "source": [
        "# Compute and plot 1D position bin occurrence counts for x-position\nbin_counts_pos_1d = compute_bin_counts_pos(position[0], bins[0])\nplot_heatmap(bin_counts_pos_1d, title='X-position bin occurrence counts heatmap')"
      ]
    },
    {
      "cell_type": "markdown",
      "metadata": {},
      "source": [
        "### Compute 2D and 1D spatial information\n\nNext, we want to measure to relationship between spiking and position data.\n\nTo do so, we will compute a spatial information measure between simulated spiking data\nand associated position data.\n\nTo do so, we will use the :func:`~.compute_spatial_information` function.\n\n\n"
      ]
    },
    {
      "cell_type": "code",
      "execution_count": null,
      "metadata": {
        "collapsed": false
      },
      "outputs": [],
      "source": [
        "# Simulate a spike train with chance level\nspike_train = sim_spiketrain_binom(0.5, n_samples=len(x_pos))\n\n# Get spike position bins, and the x and y position bins corresponding to spike positions\nspike_bins = np.where(spike_train == 1)[0]\nspike_x, spike_y = compute_bin_assignment(position[:, spike_bins], x_edges, y_edges,\n                                          include_edge=True)"
      ]
    },
    {
      "cell_type": "markdown",
      "metadata": {},
      "source": [
        "Let's first calculate the 1D spatial information, using only the x-dimension.\n\nTo do so, we will compute the bin firing, using the\n:func:`~.compute_bin_counts_assgn` function to compute the number of spikes per bin.\n\nWe then need to normalize this measure by occupancy, which we can do with the\n:func:`~.normalize_bin_counts` function.\n\n\n"
      ]
    },
    {
      "cell_type": "code",
      "execution_count": null,
      "metadata": {
        "collapsed": false
      },
      "outputs": [],
      "source": [
        "# Compute bin firing and normalize it\nbin_firing_1d = compute_bin_counts_assgn(bins=[bins[0]], xbins=spike_x, occupancy=occupancy_1d)\nnormalized_bin_fr_1d = normalize_bin_counts(bin_firing_1d, occupancy=occupancy_1d)"
      ]
    },
    {
      "cell_type": "markdown",
      "metadata": {},
      "source": [
        "We are now ready to compute the spatial information.\n\n\n"
      ]
    },
    {
      "cell_type": "code",
      "execution_count": null,
      "metadata": {
        "collapsed": false
      },
      "outputs": [],
      "source": [
        "# Compute 1d spatial information\nspatial_information_1d = compute_spatial_information(normalized_bin_fr_1d, occupancy_1d,\n                                                     normalize=False)\nprint('The 1D spatial information is = {:.3}'.format(spatial_information_1d))"
      ]
    },
    {
      "cell_type": "markdown",
      "metadata": {},
      "source": [
        "We can also follow the same procedure to compute spatial information for 2D data.\n\n\n"
      ]
    },
    {
      "cell_type": "code",
      "execution_count": null,
      "metadata": {
        "collapsed": false
      },
      "outputs": [],
      "source": [
        "# Compute bin firing and normalize it\nbin_firing = compute_bin_counts_assgn(bins=bins, xbins=spike_x, ybins=spike_y)\nnormalized_bin_fr = normalize_bin_counts(bin_firing, occupancy=occupancy)\n\n# Compute 2d spatial information\nspatial_information_2d = compute_spatial_information(normalized_bin_fr, occupancy, normalize=False)\nprint('The 2D spatial information is = {:.3}'.format(spatial_information_2d))"
      ]
    }
  ],
  "metadata": {
    "kernelspec": {
      "display_name": "Python 3",
      "language": "python",
      "name": "python3"
    },
    "language_info": {
      "codemirror_mode": {
        "name": "ipython",
        "version": 3
      },
      "file_extension": ".py",
      "mimetype": "text/x-python",
      "name": "python",
      "nbconvert_exporter": "python",
      "pygments_lexer": "ipython3",
      "version": "3.8.11"
    }
  },
  "nbformat": 4,
  "nbformat_minor": 0
}