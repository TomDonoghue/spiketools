{
  "cells": [
    {
      "cell_type": "code",
      "execution_count": null,
      "metadata": {
        "collapsed": false
      },
      "outputs": [],
      "source": [
        "%matplotlib inline"
      ]
    },
    {
      "cell_type": "markdown",
      "metadata": {},
      "source": [
        "\n# Spatial Analyses\n\nAnalyze spatial data and apply spatial measures to spiking data.\n\nThis tutorial primarily covers the ``spiketools.spatial`` module.\n"
      ]
    },
    {
      "cell_type": "markdown",
      "metadata": {},
      "source": [
        "## Apply spatial measures to spatial data\n\nThis tutorial contains the following sections:\n\n1. Compute and plot distances and speed using position\n2. Divide position in spatial bin edges\n3. Compute spatial bin assignment using spatial bin edges\n4. Compute time in each timestamp sample\n5. Compute and plot occupancy\n6. Compute 2D and 1D spatial information\n\n\n"
      ]
    },
    {
      "cell_type": "code",
      "execution_count": null,
      "metadata": {
        "collapsed": false
      },
      "outputs": [],
      "source": [
        "# Import auxiliary libraries\nimport numpy as np\nimport matplotlib.pyplot as plt\n\n# Import functions from spiketools.spatial\nfrom spiketools.spatial.position import (compute_distance, compute_distances,\n                                         compute_cumulative_distances, compute_speed)\nfrom spiketools.spatial.occupancy import (compute_bin_edges, compute_bin_assignment,\n                                          compute_bin_time, compute_occupancy, \n                                          compute_bin_firing, normalize_bin_firing)\nfrom spiketools.spatial.utils import get_pos_ranges, get_bin_width\nfrom spiketools.spatial.information import compute_spatial_information\n\n# Import spiketrain simulation function\nfrom spiketools.sim.train import sim_spiketrain_binom\n\n# Import plotting functions\nfrom spiketools.plts.spatial import plot_positions, plot_heatmap"
      ]
    },
    {
      "cell_type": "code",
      "execution_count": null,
      "metadata": {
        "collapsed": false
      },
      "outputs": [],
      "source": [
        "# Set some tracking data\nx_pos = np.linspace(0, 15, 16)\ny_pos = np.array([0, 0, 0.1, 1, 1.5, 1, 1, 2.1, 2, 1, 0, 1, 2, 3, 4, 3.2])\nposition = np.array([x_pos, y_pos])\n\n# Set the time width of each position sample\nbin_widths = np.array([1, 1, 1, 2, 1.5, 1, 1, 1, 2, 1, 1, 1, 1, 1, 0.5])\n\n# Set number of spatial bins, 3 x-bins and 5 y-bins\nbins = [3, 5]\n\n# Set timestamp\ntimestamps = np.array([0, 1, 2, 3, 5, 6.5, 7.5, 8.5, 9.5, 11.5, 12.5, 13.5, 14.5, 15.5, 16.5, 17])"
      ]
    },
    {
      "cell_type": "markdown",
      "metadata": {},
      "source": [
        "### 1. Compute and plot distances and speed using position\n\nUse x- and y-position to compute distance between two or more points, cumulative distance\ntraveled and speed\n\n\n"
      ]
    },
    {
      "cell_type": "code",
      "execution_count": null,
      "metadata": {
        "collapsed": false
      },
      "outputs": [],
      "source": [
        "# Look at the range of our x and y positions\nranges = get_pos_ranges(position)\nprint(f'The x-position ranges from {ranges[0][0]} to {ranges[0][1]}')\nprint(f'The y-position ranges from {ranges[1][0]} to {ranges[1][1]}')"
      ]
    },
    {
      "cell_type": "code",
      "execution_count": null,
      "metadata": {
        "collapsed": false
      },
      "outputs": [],
      "source": [
        "# Plot positions (coordinates marked x are the actual points)\nplot_positions(position, alpha=1, ls='-', marker='x', color='tab:gray', markersize=10,\n               title='Tracking', xlabel='x-position', ylabel='y-position')\n_ = plt.legend(['coordinates'])"
      ]
    },
    {
      "cell_type": "code",
      "execution_count": null,
      "metadata": {
        "collapsed": false
      },
      "outputs": [],
      "source": [
        "# Compute distance between start and end point\ndist_start_end = compute_distance(x_pos[0], y_pos[0], x_pos[-1], y_pos[-1])\n\n# Compute distance traveled at each point\ndist_traveled = compute_distances(x_pos, y_pos)\n\n# Compute total distance traveled\ncumulative_dist_traveled = compute_cumulative_distances(x_pos, y_pos)\n\n# Compute speed at each point\nbin_widths = np.array([1, 1, 1, 2, 1.5, 1, 1, 1, 2, 1, 1, 1, 1, 1, 0.5])\nspeeds = compute_speed(x_pos, y_pos, bin_widths)"
      ]
    },
    {
      "cell_type": "code",
      "execution_count": null,
      "metadata": {
        "collapsed": false
      },
      "outputs": [],
      "source": [
        "fig, (ax1, ax2, ax3) = plt.subplots(3, 1, sharex=True)\n# plot distance traveled at each time\nplot_positions(np.append([x_pos[1:]], [dist_traveled], axis=0),\n               ax=ax1, alpha=1, ls='-', marker='x', color='tab:pink', markersize=10,\n               title='Distance traveled at each point',\n               xlabel='time (t)', ylabel='speed (u/t)')\n\n# plot cumulative distance traveled per time\nplot_positions(np.append([x_pos[1:]], [cumulative_dist_traveled], axis=0),\n               ax=ax2, alpha=1, ls='-', marker='x', color='tab:olive', markersize=10,\n               title='Cumulative distance traveled at each point',\n               xlabel='time (t)', ylabel='speed (u/t)')\n\n# plot speed at each time point\nplot_positions(np.append([x_pos[1:]], [speeds], axis=0),\n               ax=ax3, alpha=1, ls='-', marker='x', color='tab:cyan', markersize=10,\n               title='Speed at each point', xlabel='time (t)', ylabel='speed (u/t)')\n\n# Add padding between subplots, and make figure bigger\nfig.tight_layout(pad=0.05)\nfig.set_size_inches((15/2.54, 20/2.54))"
      ]
    },
    {
      "cell_type": "markdown",
      "metadata": {},
      "source": [
        "### 2. Divide position in spatial bin edges and plot\n\nCompute x- and y- spatial bin edges and plot spatial grid.\n\n\n"
      ]
    },
    {
      "cell_type": "code",
      "execution_count": null,
      "metadata": {
        "collapsed": false
      },
      "outputs": [],
      "source": [
        "# Compute spatial bin edges\nx_edges, y_edges = compute_bin_edges(position, bins)\n\n# Compute the width of each spatial bin\nx_bins_spatial_width = get_bin_width(x_edges)\ny_bins_spatial_width = get_bin_width(y_edges)\nprint(f'The x spatial bins have width = {x_bins_spatial_width}')\nprint(f'The y spatial bins have width = {y_bins_spatial_width}')"
      ]
    },
    {
      "cell_type": "code",
      "execution_count": null,
      "metadata": {
        "collapsed": false
      },
      "outputs": [],
      "source": [
        "# Plot grid of spatial bins with tracking on top\nplot_positions(position, x_bins=x_edges, y_bins=y_edges,\n               alpha=1, ls='-', marker='x', color='tab:gray', markersize=10,\n               title='Tracking and spatial bins', xlabel='x-position', ylabel='y-position')\n_ = plt.legend(['Tracking'], loc='upper left')"
      ]
    },
    {
      "cell_type": "markdown",
      "metadata": {},
      "source": [
        "### 3. Compute spatial bin assignment using spatial bin edges\n\nCompute spatial bin assignment for position using previously computed spatial bin edges.\n\n\n"
      ]
    },
    {
      "cell_type": "code",
      "execution_count": null,
      "metadata": {
        "collapsed": false
      },
      "outputs": [],
      "source": [
        "# Now let us check where the 1st 7 point of position using the same x_edges and y_edges\nn_points = 7\nx_bins, y_bins = compute_bin_assignment(position[:, :n_points], x_edges, y_edges)\n\n# We can check they match the positions in plot (ii)\nfor ind in range(0, n_points):\n    print(f'The point (x, y) = ({position[0, ind]}, {position[1, ind]}) is in the x_bin \\\n          {x_bins[ind]}, and on the y_bin {y_bins[ind]}.')"
      ]
    },
    {
      "cell_type": "markdown",
      "metadata": {},
      "source": [
        "### 4. Compute time in each timestamp sample\n\nCompute time width of the timestamp sampling bins.\n\n\n"
      ]
    },
    {
      "cell_type": "code",
      "execution_count": null,
      "metadata": {
        "collapsed": false
      },
      "outputs": [],
      "source": [
        "# Let us now compute the time in each timestamp bin\nbin_time = compute_bin_time(timestamps)\nprint(f'The time widths of the the sampling bins are: {bin_widths}')"
      ]
    },
    {
      "cell_type": "markdown",
      "metadata": {},
      "source": [
        "### 5. Compute and plot occupancy\n\nNow we are interested in how much time was spent in each bin of the spatial grid (each\nsub-region of the space).\nFor 2D case, compute occupancy using position, timestamps, bins and speed.\nAlso plot a heatmap of 2D occupancy.\nFor 1D case, compute occupancy using x-position, timestamps, x-bins and speed.\nAlso plot a heatmap of 1D occupancy.\n\n\n"
      ]
    },
    {
      "cell_type": "code",
      "execution_count": null,
      "metadata": {
        "collapsed": false
      },
      "outputs": [],
      "source": [
        "# Compute and plot 2D occupancy using the previously defined position, timestamps, bins and speed\noccupancy = compute_occupancy(position, timestamps, bins, speed=np.insert(speeds, 0, 0), \n                              speed_thresh=.5e-5)\nplot_heatmap(occupancy, transpose=True, title='Occupancy heatmap')\n\n# Compute and plot 1D occupancy using the previously defined x-position, timestamps, x-bins and \n# speed\noccupancy_1d = compute_occupancy(position[0], timestamps, [bins[0]], speed=np.insert(speeds, 0, 0), \n                                 speed_thresh=.5e-5)\nplot_heatmap(np.expand_dims(occupancy_1d, 1), transpose=True, title='X-Occupancy heatmap')"
      ]
    },
    {
      "cell_type": "markdown",
      "metadata": {},
      "source": [
        "### 6. Compute 2D and 1D spatial information\n\nCompute spatial information for simulated spike positions, spatial bins, and occupancy.\n\n\n"
      ]
    },
    {
      "cell_type": "code",
      "execution_count": null,
      "metadata": {
        "collapsed": false
      },
      "outputs": [],
      "source": [
        "# Simulate a spike train with chance level\nspike_train = sim_spiketrain_binom(0.5, n_samples=len(x_pos))\n\n# Get spike position bins\nspike_bins = np.where(spike_train == 1)[0]\n# Get x and y position bins corresponding to spike positions\nspike_x, spike_y = compute_bin_assignment(position[:, spike_bins], x_edges, y_edges, \n                                          include_edge=True)"
      ]
    },
    {
      "cell_type": "code",
      "execution_count": null,
      "metadata": {
        "collapsed": false
      },
      "outputs": [],
      "source": [
        "# Calculate the 1D spatial information (x-dimension only)\n# Compute bin firing and normalize it\nbin_firing_1d = compute_bin_firing(bins=[bins[0]], xbins=spike_x, occupancy=occupancy_1d)\nnormalized_bin_fr_1d = normalize_bin_firing(bin_firing_1d, occupancy=occupancy_1d)\n# Compute 1d spatial information\nspatial_information_1d = compute_spatial_information(normalized_bin_fr_1d, occupancy_1d, \n                                                     normalize=False)\nprint(f'The 1D spatial information is = {spatial_information_1d}')"
      ]
    },
    {
      "cell_type": "code",
      "execution_count": null,
      "metadata": {
        "collapsed": false
      },
      "outputs": [],
      "source": [
        "# Compute the 2D spatial information for spikes\n# Compute bin firing and normalize it\nbin_firing = compute_bin_firing(bins=bins, xbins=spike_x, ybins=spike_y)\nnormalized_bin_fr = normalize_bin_firing(bin_firing, occupancy=occupancy)\n# Compute 2d spatial information\nspatial_information_2d = compute_spatial_information(normalized_bin_fr, occupancy, normalize=False)\nprint(f'The 2D spatial information is = {spatial_information_2d}')"
      ]
    }
  ],
  "metadata": {
    "kernelspec": {
      "display_name": "Python 3",
      "language": "python",
      "name": "python3"
    },
    "language_info": {
      "codemirror_mode": {
        "name": "ipython",
        "version": 3
      },
      "file_extension": ".py",
      "mimetype": "text/x-python",
      "name": "python",
      "nbconvert_exporter": "python",
      "pygments_lexer": "ipython3",
      "version": "3.8.3"
    }
  },
  "nbformat": 4,
  "nbformat_minor": 0
}