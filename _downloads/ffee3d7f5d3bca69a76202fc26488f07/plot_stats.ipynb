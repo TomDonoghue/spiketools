{
  "cells": [
    {
      "cell_type": "code",
      "execution_count": null,
      "metadata": {
        "collapsed": false
      },
      "outputs": [],
      "source": [
        "%matplotlib inline"
      ]
    },
    {
      "cell_type": "markdown",
      "metadata": {},
      "source": [
        "\n# Statistical Analyses\n\nApply statistical analyses to spiking data.\n\nThis tutorial primarily covers the ``spiketools.stats`` module.\n"
      ]
    },
    {
      "cell_type": "markdown",
      "metadata": {},
      "source": [
        "## Applying statistical measures to spiking data\n\nThis tutorial covers applying statistical measures to spike data.\n\nThis tutorial contains the following sections:\n\n1. Compute and plot different shuffles of spikes\n2. Compute t-test t- and p-values to test for an event-related firing rate change\n3. Compare first and last half of trials\n4. Run a 2-way ANOVA on multiple trials data\n5. Compute empirical p-value and z-score from distribution of surrogates\n6. Compute f-value from spiking data using 1-way ANOVA\n\n\n"
      ]
    },
    {
      "cell_type": "code",
      "execution_count": null,
      "metadata": {
        "collapsed": false
      },
      "outputs": [],
      "source": [
        "# Import auxiliary libraries\nimport numpy as np\n\n# Import statistics-related functions\nfrom spiketools.stats.shuffle import (shuffle_spikes, shuffle_isis, shuffle_bins,\n                                      shuffle_poisson, shuffle_circular)\nfrom spiketools.stats.permutations import compute_surrogate_stats\nfrom spiketools.stats.anova import create_dataframe, create_dataframe_bins, fit_anova\nfrom spiketools.stats.trials import (compute_pre_post_ttest, compare_pre_post_activity,\n                                     compare_trial_frs)\n\n# Import other spiketools functions\nfrom spiketools.sim.times import sim_spiketimes\nfrom spiketools.sim.train import sim_spiketrain_binom\nfrom spiketools.measures.trials import compute_pre_post_rates\nfrom spiketools.spatial.occupancy import (compute_bin_edges, compute_bin_assignment,\n                                          compute_bin_counts_assgn)\n\n# Import plot function\nfrom spiketools.plts.trials import plot_rasters\nfrom spiketools.plts.stats import plot_surrogates\nfrom spiketools.plts.utils import make_axes"
      ]
    },
    {
      "cell_type": "markdown",
      "metadata": {},
      "source": [
        "First we will generate some test data, by simulating some spike times.\n\nTo do so, we will simulate some spike times at 10Hz for 100 seconds.\nIn doing so, we will use the `refractory` settings to prevent multiple\nspikes occurring within the same millisecond\n\n\n"
      ]
    },
    {
      "cell_type": "code",
      "execution_count": null,
      "metadata": {
        "collapsed": false
      },
      "outputs": [],
      "source": [
        "# Simulate spike times\nspikes = sim_spiketimes(10, 100, 'poisson', refractory=0.001)"
      ]
    },
    {
      "cell_type": "markdown",
      "metadata": {},
      "source": [
        "### Compute and plot different shuffles of spikes\n\nHere, we will explore different shuffle approaches to create different shuffled\nsurrogates of our original spikes.\n\nThe approaches we will try are:\n\n- :func:`~.shuffle_isis`: shuffle spike times using permuted inter-spike intervals (isis)\n- :func:`~.shuffle_bins`: shuffle spikes by circularly shuffling bins of varying length\n- :func:`~.shuffle_poisson`: shuffle spikes based on a Poisson distribution\n- :func:`~.shuffle_circular`: shuffle spikes by circularly shifting the spike train\n\n\n"
      ]
    },
    {
      "cell_type": "code",
      "execution_count": null,
      "metadata": {
        "collapsed": false
      },
      "outputs": [],
      "source": [
        "# Shuffle spikes using the four described methods\nshuffled_isis = shuffle_isis(spikes, n_shuffles=10)\nshuffled_bins = shuffle_bins(spikes, bin_width_range=[0.5, 7], n_shuffles=10)\nshuffled_poisson = shuffle_poisson(spikes, n_shuffles=10)\nshuffled_circular = shuffle_circular(spikes, shuffle_min=200, n_shuffles=10)"
      ]
    },
    {
      "cell_type": "code",
      "execution_count": null,
      "metadata": {
        "collapsed": false
      },
      "outputs": [],
      "source": [
        "# Plot original spike train\nplot_rasters(spikes, xlim=[0, 6], title='Non-shuffled', vline=None)"
      ]
    },
    {
      "cell_type": "code",
      "execution_count": null,
      "metadata": {
        "collapsed": false
      },
      "outputs": [],
      "source": [
        "# Plot different shuffles\nax1, ax2, ax3, ax4 = make_axes(4, 2, sharey=True, hspace=0.3, figsize=(15, 7))\n\n# Shuffle spikes based on inter-spike intervals\nplot_rasters(shuffled_isis, xlim=[0, 6], ax=ax1,\n             title='Shuffle ISIS n_shuffles = 10')\n\n# Shuffle spikes Poisson\nplot_rasters(shuffled_poisson, xlim=[0, 6], ax=ax2,\n             title='Shuffle Poisson n_shuffles = 10')\n\n# Shuffled spikes using a binned circular shuffle\nplot_rasters(shuffled_bins, xlim=[0, 6], ax=ax3,\n             title='Shuffle bins n_shuffles = 10')\n\n# Circular shuffle\nplot_rasters(shuffled_circular, xlim=[0, 6], ax=ax4,\n             title='Shuffle circular n_shuffles = 10')"
      ]
    },
    {
      "cell_type": "markdown",
      "metadata": {},
      "source": [
        "In the above we ran different shuffling approaches by calling different shuffling functions.\n\nThere is also the more general :func:`~.shuffle_spikes` function, which can be used\ncall the different shuffling methods by passing an argument to define which method to use.\n\n\n"
      ]
    },
    {
      "cell_type": "code",
      "execution_count": null,
      "metadata": {
        "collapsed": false
      },
      "outputs": [],
      "source": [
        "# Shuffle spikes using the general `shuffle_spikes` function\nshuffled_spikes = shuffle_spikes(spikes, 'CIRCULAR', shuffle_min=200, n_shuffles=10)\n\n# Plot shuffle spikes\nplot_rasters(shuffled_spikes, xlim=[0, 6], title='Shuffled Spikes')"
      ]
    },
    {
      "cell_type": "markdown",
      "metadata": {},
      "source": [
        "### Compute t-test t- and p-values to test for an event-related firing rate change\n\nFirst generate data that simulates a change in spike rate due to an event across 10 trials.\n\nIn this example case, across trials, we will simulate a change in firing rate\naround an event. Specifically, we will simulate trials with an average firing rate of\n5 Hz in the 3 second pre-event window, which changes to a firing rate of 10 Hz in\n3 second post-event window.\n\n\n"
      ]
    },
    {
      "cell_type": "code",
      "execution_count": null,
      "metadata": {
        "collapsed": false
      },
      "outputs": [],
      "source": [
        "# Set the number of trials to simulate\nn_trials = 10\n\n# Define settings for the simulation\ntime_pre = 3\nfr_pre = 5\ntime_post = 3\nfr_post = 10\n\n# Simulate spiking activity across trials\ntrial_spikes = [None] * n_trials\nfor trial_idx in range(n_trials):\n\n    # Generate pre- and post-event spike times, offsetting post spikes to happen after pre\n    spikes_pre = sim_spiketimes(fr_pre, time_pre, 'poisson', refractory=0.001)\n    spikes_post = sim_spiketimes(fr_post, time_post, 'poisson', refractory=0.001) + time_pre\n\n    # Stack pre and post, making each trial 6 seconds long\n    trial_spikes[trial_idx] = np.append(spikes_pre, spikes_post)\n\n# Plot the spike times across trials\nplot_rasters(trial_spikes, vline=3, title='Spikes per trial')"
      ]
    },
    {
      "cell_type": "markdown",
      "metadata": {},
      "source": [
        "Now that we have our simulated data, first we will calculate the firing rates across\nthe pre- and post-event time ranges.\n\nTo do so, we will use the :func:`~.compute_pre_post_rates` function.\n\n\n"
      ]
    },
    {
      "cell_type": "code",
      "execution_count": null,
      "metadata": {
        "collapsed": false
      },
      "outputs": [],
      "source": [
        "# Define settings for the pre- and post- event time ranges\npre_window = [0, time_pre]\npost_window = [time_pre, time_pre + time_post]\n\n# Compute firing rates (Hz) pre- and post-event for all trials\nfrs_pre, frs_post = compute_pre_post_rates(trial_spikes, pre_window, post_window)"
      ]
    },
    {
      "cell_type": "markdown",
      "metadata": {},
      "source": [
        "Next, we can compute the t-test between the pre- and post-event firing rates across trials.\n\nTo do this, we will use the :func:`~.compute_pre_post_ttest` function.\n\n\n"
      ]
    },
    {
      "cell_type": "code",
      "execution_count": null,
      "metadata": {
        "collapsed": false
      },
      "outputs": [],
      "source": [
        "# Compute a t-test between the pre- and post-event firing rates\ntval_t, pval_t = compute_pre_post_ttest(frs_pre, frs_post)\n\nprint('The t-value is {:1.3f}, with a p-value of {:.3e}'.format(tval_t, pval_t))"
      ]
    },
    {
      "cell_type": "markdown",
      "metadata": {},
      "source": [
        "In the above, we separately computed and then compared the firing rates around\nan event of interest.\n\nTo compute average firing rates and compare them all together, we can use the\n:func:`~.compare_pre_post_activity` function.\n\n\n"
      ]
    },
    {
      "cell_type": "code",
      "execution_count": null,
      "metadata": {
        "collapsed": false
      },
      "outputs": [],
      "source": [
        "# Calculate p-value and t-value between the firing rates using a t-test\n# Also calculate the average firing rates pre- and post-event\navg_pre, avg_post, tval_t, pval_t = compare_pre_post_activity(trial_spikes, pre_window,\n                                                              post_window, avg_type='mean')\n\n# Print the average firing rates & t-test output\nprint('Average FR pre-event: {:1.3f}'.format(avg_pre))\nprint('Average FR post-event: {:1.3f}'.format(avg_post))\n\nprint('The t-value is {:1.3f}, with a p-value of {:.3e}'.format(tval_t, pval_t))"
      ]
    },
    {
      "cell_type": "markdown",
      "metadata": {},
      "source": [
        "### Compare 1st and 2nd half of trials\n\nIn real data, time or trial index may influence the outcome.\n\nFor another example analysis, next we will examine the binned pre / post firing\nrates, split up by a split-half of the trials, to examine whether there is\nevidence for a difference in spiking activity across different trials.\n\nTo do this, we can use the :func:`~.compare_trial_frs` function.\n\n\n"
      ]
    },
    {
      "cell_type": "code",
      "execution_count": null,
      "metadata": {
        "collapsed": false
      },
      "outputs": [],
      "source": [
        "# Combine trials together into a 2d array\nall_trials_data = np.array([frs_pre, frs_post]).T\n\n# For each bin (pre and post event bins), compare 1st half of trials to 2nd half of trials\npre_between_halfs, post_between_halfs = compare_trial_frs(all_trials_data[:5], all_trials_data[5:])\n\n# Print out the results\nprint('For pre bin comparison, the t-value is {:1.3f}, a p-value of {:.3e}.'.format(\\\n      pre_between_halfs[0], pre_between_halfs[1]))\nprint('For post bin comparison, the t-value is {:1.3f}, with a p-value of {:.3e}.'.format(\\\n      post_between_halfs[0], post_between_halfs[1]))"
      ]
    },
    {
      "cell_type": "markdown",
      "metadata": {},
      "source": [
        "### Run 2-way ANOVA on multiple trials data\n\nAnother way of testing whether there are event-related changes in firing rates\nrate is to run a 2-way ANOVA.\n\nTo do that, we will first organize the firing rates and the factors in a pandas DataFrame,\nwhich we will prepare for by organizing the data we need into a dictionary.\n\n\n"
      ]
    },
    {
      "cell_type": "code",
      "execution_count": null,
      "metadata": {
        "collapsed": false
      },
      "outputs": [],
      "source": [
        "# Put the firing rates int a single array\npre_post_frs = np.concatenate([frs_pre, frs_post])\n\n# Create a boolean array to differentiate between pre- and -post event\nis_post_event = np.array([0] * len(frs_pre) + [1] * len(frs_pre))\n\n# Create array with trial number information\ntrial_idx = np.concatenate([np.arange(0, len(frs_pre)), np.arange(0, len(frs_pre))])\n\n# Put it all together into a dictionary\ndata = {'fr': pre_post_frs, 'is_post_event': is_post_event, 'trial_idx': trial_idx}"
      ]
    },
    {
      "cell_type": "markdown",
      "metadata": {},
      "source": [
        "We can now turn our data into a dataframe using the :func:`~.create_dataframe` function.\n\n\n"
      ]
    },
    {
      "cell_type": "code",
      "execution_count": null,
      "metadata": {
        "collapsed": false
      },
      "outputs": [],
      "source": [
        "# Create the dataframe\ndf_pre_post = create_dataframe(data)"
      ]
    },
    {
      "cell_type": "markdown",
      "metadata": {},
      "source": [
        "Now that we have our data organized into a dataframe, we can run an ANOVA using.\n\nSpecifically, we will run an ANOVA to analyze whether there is an of the event on\nfiring rates, as well as checking whether there is an effect of trial index on firing rate.\n\nTo run the ANOVA, we need to define the formula we want to run.\n\nThen, using the dataframe and the formula, we can use\nthe :func:`~.fit_anova` function to fit our ANOVA.\n\nNote that in this example, we did not evaluate the effect of the interaction.\n\n\n"
      ]
    },
    {
      "cell_type": "code",
      "execution_count": null,
      "metadata": {
        "collapsed": false
      },
      "outputs": [],
      "source": [
        "# Define the formula for the ANOVA to fit\nformula = 'fr ~ C(is_post_event)+C(trial_idx)'\n\n# Run 2-way ANOVA without interaction on our dataframe\nanova_pre_post = fit_anova(df_pre_post, formula, return_type='results', anova_type=2)\n\n# Print out results\nprint('F-value, pre vs post: {:1.3f}'.format(anova_pre_post['F']['C(is_post_event)']))\nprint('P-value, pre vs post: {:.3e}'.format(anova_pre_post['PR(>F)']['C(is_post_event)']))\nprint('F-value, trial index: {:1.3f}'.format(anova_pre_post['F']['C(trial_idx)']))\nprint('P-value, trial index: {:.3e}'.format(anova_pre_post['PR(>F)']['C(trial_idx)']))"
      ]
    },
    {
      "cell_type": "markdown",
      "metadata": {},
      "source": [
        "### Compute the empirical p-value and z-score from distribution of surrogates\n\nNext, we will use surrogate data to test whether our analysis reflects a significant effect.\n\nFirst we calculate the change in firing rate for an example trial (first trial).\n\nHere firing rate different is computed between pre- and post-even rates\n(delta = post firing rate - pre firing rate).\n\n\n"
      ]
    },
    {
      "cell_type": "code",
      "execution_count": null,
      "metadata": {
        "collapsed": false
      },
      "outputs": [],
      "source": [
        "# Get firing rate difference between post and pre\n# This will be the value we compute the empirical p-value and the z-score for\nfr_diff = frs_post[0] - frs_pre[0]"
      ]
    },
    {
      "cell_type": "markdown",
      "metadata": {},
      "source": [
        "To compare the delta firing rate, we need to generate our distribution of surrogates.\n\nThus, we will shuffle the data from the first trial (as an example) 100 times (using isis).\nFor each of the shuffles, we will calculate the change in firing rate.\n\n\n"
      ]
    },
    {
      "cell_type": "code",
      "execution_count": null,
      "metadata": {
        "collapsed": false
      },
      "outputs": [],
      "source": [
        "# Settings for shuffle the data\nn_shuff = 100\n\n# Shuffle the spike data, to be used to calculate surrogates\nshuff_spikes = shuffle_isis(trial_spikes[0], n_shuffles=n_shuff)"
      ]
    },
    {
      "cell_type": "markdown",
      "metadata": {},
      "source": [
        "Now that we have shuffled spikes, we can compute our measure of interest on the\nsurrogate data. This will give us a the surrogate distribution which we can then use\nto compute the empirical p-value and the z-score, to examine if the effect in the\nreal data is greater than expected by change (in the shuffles).\n\n\n"
      ]
    },
    {
      "cell_type": "code",
      "execution_count": null,
      "metadata": {
        "collapsed": false
      },
      "outputs": [],
      "source": [
        "# Calculate surrogate measures\nshuff_frs_pre, shuff_frs_post = compute_pre_post_rates(shuff_spikes, pre_window, post_window)\nshuff_fr_diff = shuff_frs_post - shuff_frs_pre\n\nprint('Minimum delta FR across surrogates: {:1.3f}'.format(np.min(shuff_fr_diff)))\nprint('Maximum delta FR across surrogates: {:1.3f}'.format(np.max(shuff_fr_diff)))"
      ]
    },
    {
      "cell_type": "markdown",
      "metadata": {},
      "source": [
        "Now we can compute the empirical p-value and z-score of change in firing rate from\nthe distribution of surrogates, using the :func:`~.compute_surrogate_stats` function.\n\n\n"
      ]
    },
    {
      "cell_type": "code",
      "execution_count": null,
      "metadata": {
        "collapsed": false
      },
      "outputs": [],
      "source": [
        "# Calculate empirical p-value and z-score of difference in firing rate with respect to surrogates\nsurr_pval, surr_zscore = compute_surrogate_stats(fr_diff, shuff_fr_diff)\n\nprint('For the surrogate comparison, the z-score is {:1.3f}, and the p-value is {:.3e}'.format(\\\n      surr_zscore, surr_pval))"
      ]
    },
    {
      "cell_type": "markdown",
      "metadata": {},
      "source": [
        "Lastly, plot the distribution of surrogates with calculated delta firing rate.\n\n\n"
      ]
    },
    {
      "cell_type": "code",
      "execution_count": null,
      "metadata": {
        "collapsed": false
      },
      "outputs": [],
      "source": [
        "# Plot distribution of surrogates, with calculated delta firing rate & p-value\nplot_surrogates(shuff_fr_diff, fr_diff, surr_pval)"
      ]
    },
    {
      "cell_type": "markdown",
      "metadata": {},
      "source": [
        "### Compute f-value from spiking data using 1-way ANOVA\n\nIn this example, we will compute a statistical test of whether there is an effect\nof spatial position on neuron firing.\n\nTo do so, we will simulating spike trains across trials (8 seconds) across spatial bins.\n\nThe simulated data will then be organized (per trial, per bin) into dataframes,\nwhich we can then use to fit the ANOVA.\n\nFor this example, we will generate a new set of spiking data.\nNote that this simulation matches the one used in the Spatial Analysis tutorial.\n\n\n"
      ]
    },
    {
      "cell_type": "code",
      "execution_count": null,
      "metadata": {
        "collapsed": false
      },
      "outputs": [],
      "source": [
        "# Generate some positional data\nx_pos = np.linspace(0, 15, 8000)\ny_pos = np.linspace(0, 5, 8000)\nposition = np.array([x_pos, y_pos])\n\n# Set number of spatial bins, 3 x-bins and 5 y-bins\nbins = [3, 5]\nn_bins = bins[0] * bins[1]\n\n# Compute spatial bin edges\nx_edges, y_edges = compute_bin_edges(position, bins)\n\n# Set number of trials\nn_trials = 10\nbin_firing_all = np.zeros([n_trials, n_bins])\n\nfor ind in range(n_trials):\n\n    # Simulate a spike train with a sampling rate of 1000 Hz\n    spike_train = sim_spiketrain_binom(0.005, n_samples=8000)\n\n    # Get spike position bins\n    spike_bins = np.where(spike_train == 1)[0]\n\n    # Get x and y position bins corresponding to spike positions\n    spike_x, spike_y = compute_bin_assignment(position[:, spike_bins], x_edges, y_edges,\n                                              include_edge=True)\n\n    # Compute firing rate in each bin\n    bin_firing = (compute_bin_counts_assgn(bins=bins, xbins=spike_x, ybins=spike_y)).flatten()\n    bin_firing_all[ind,:] = bin_firing"
      ]
    },
    {
      "cell_type": "markdown",
      "metadata": {},
      "source": [
        "Note that in this example we have a different data organization, due to the binning, and so\nin this case we will create a dataframe using the :func:`~.create_dataframe_bins` function.\n\n\n"
      ]
    },
    {
      "cell_type": "code",
      "execution_count": null,
      "metadata": {
        "collapsed": false
      },
      "outputs": [],
      "source": [
        "# Organize spiking data into dataframe\ndf = create_dataframe_bins(bin_firing_all, dropna=True)"
      ]
    },
    {
      "cell_type": "markdown",
      "metadata": {},
      "source": [
        "Once we have the dataframe, we can fit the ANOVA using the\n:func:`~.fit_anova` function, as above.\n\n\n"
      ]
    },
    {
      "cell_type": "code",
      "execution_count": null,
      "metadata": {
        "collapsed": false
      },
      "outputs": [],
      "source": [
        "# Compute f_value from spiking data using ANOVA\nf_val = fit_anova(df, 'fr ~ C(bin)', feature='C(bin)', return_type='f_val', anova_type=1)\nprint('F-value: {:.3}'.format(f_val))"
      ]
    },
    {
      "cell_type": "markdown",
      "metadata": {},
      "source": [
        "Note that the procedure we employed here could also be combined with what we did above\nto shuffle the data, in order to calculate the ANOVA F-value across surrogates and\nthen compare to the real data.\n\n\n"
      ]
    }
  ],
  "metadata": {
    "kernelspec": {
      "display_name": "Python 3",
      "language": "python",
      "name": "python3"
    },
    "language_info": {
      "codemirror_mode": {
        "name": "ipython",
        "version": 3
      },
      "file_extension": ".py",
      "mimetype": "text/x-python",
      "name": "python",
      "nbconvert_exporter": "python",
      "pygments_lexer": "ipython3",
      "version": "3.8.11"
    }
  },
  "nbformat": 4,
  "nbformat_minor": 0
}