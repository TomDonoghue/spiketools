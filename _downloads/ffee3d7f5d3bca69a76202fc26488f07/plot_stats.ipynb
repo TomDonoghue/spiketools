{
  "cells": [
    {
      "cell_type": "code",
      "execution_count": null,
      "metadata": {
        "collapsed": false
      },
      "outputs": [],
      "source": [
        "%matplotlib inline"
      ]
    },
    {
      "cell_type": "markdown",
      "metadata": {},
      "source": [
        "\n# Statistical Analyses\n\nApply statistical analyses to spiking data.\n\nThis tutorial primarily covers the ``spiketools.stats`` module.\n"
      ]
    },
    {
      "cell_type": "markdown",
      "metadata": {},
      "source": [
        "## Applying statistical measures to spiking data\n\nThis tutorial contains the following sections:\n\n1. Compute and plot different shuffles of spikes\n2. Compute empirical p-value and z-score from distribution of surrogates\n\n\n"
      ]
    },
    {
      "cell_type": "code",
      "execution_count": null,
      "metadata": {
        "collapsed": false
      },
      "outputs": [],
      "source": [
        "# Import auxiliary libraries\nimport numpy as np\nimport matplotlib.pyplot as plt\n\n# Import statistics-related functions\nfrom spiketools.sim.times import sim_spiketimes\nfrom spiketools.stats.shuffle import (shuffle_isis, shuffle_bins, shuffle_poisson,\n                                      shuffle_circular)\nfrom spiketools.stats.permutations import compute_surrogate_stats\n\n# Import plot function\nfrom spiketools.plts.trials import plot_rasters\nfrom spiketools.plts.stats import plot_surrogates\n\n# Import measures & utilities\nfrom spiketools.utils.data import restrict_range\nfrom spiketools.measures.measures import compute_firing_rate"
      ]
    },
    {
      "cell_type": "code",
      "execution_count": null,
      "metadata": {
        "collapsed": false
      },
      "outputs": [],
      "source": [
        "# Generate spike times in seconds for spikes at 10Hz for 100 seconds\nspikes = sim_spiketimes(10, 100, 'poisson', refractory=0.001)\n# make sure there are not multiple spikes within the same millisecond\nspikes = np.unique((spikes*1000).astype(int)) / 1000"
      ]
    },
    {
      "cell_type": "markdown",
      "metadata": {},
      "source": [
        "### 1. Compute and plot different shuffles of spikes\n\nHere, we will explore different shuffle approaches to create different shuffled\nsurrogates of our original spikes.\n\nThe approaches we will try are:\n- `shuffle_isis`: shuffle spike times using permuted inter-spike intervals (isis).\n- `shuffle_bins`: shuffle spikes by creating bins of varying length and then circularly shuffling within those bins.\n- `shuffle_poisson`: shuffle spikes based on a Poisson distribution.\n- `shuffle_circular`: shuffle spikes by circularly shifting the spike train.\n\n\n"
      ]
    },
    {
      "cell_type": "code",
      "execution_count": null,
      "metadata": {
        "collapsed": false
      },
      "outputs": [],
      "source": [
        "# Shuffle spike ms using the four described methods\nshuffled_isis = shuffle_isis(spikes, n_shuffles=10)\nshuffled_bins = shuffle_bins(spikes, bin_width_range=[5000, 7000], n_shuffles=10)\nshuffled_poisson = shuffle_poisson(spikes, n_shuffles=10)\nshuffled_circular = shuffle_circular(spikes, shuffle_min=200, n_shuffles=10)"
      ]
    },
    {
      "cell_type": "code",
      "execution_count": null,
      "metadata": {
        "collapsed": false
      },
      "outputs": [],
      "source": [
        "# Plot original spike train\nplot_rasters(spikes[:], xlim=[0, 6], title='Non-shuffled', line=None)"
      ]
    },
    {
      "cell_type": "code",
      "execution_count": null,
      "metadata": {
        "collapsed": false
      },
      "outputs": [],
      "source": [
        "# Plot different shuffles\nfig, ((ax1, ax2), (ax3, ax4)) = plt.subplots(2, 2, sharey = True)\n\n# isis\nplot_rasters(shuffled_isis[:, :], xlim=[0, 6], ax=ax1,\n             title='Shuffle ISIS n_shuffles = 10', line=None)\n\n# Poisson\nplot_rasters(shuffled_poisson[:, :], xlim=[0, 6], ax=ax2,\n             title='Shuffle Poisson n_shuffles = 10', line=None)\n\n# shuffled bins\nplot_rasters(shuffled_bins[:, :], xlim=[0, 6], ax=ax3,\n             title='Shuffle bins n_shuffles = 10', line=None)\n\n# shuffled circular\nplot_rasters(shuffled_circular[:, :], xlim=[0, 6], ax=ax4,\n             title='Shuffle circular n_shuffles = 10', line=None)\n\n# Add some padding between subplots & make the figure bigger\nplt.subplots_adjust(hspace=0.3)\nfig.set_size_inches((40/2.54, 20/2.54))"
      ]
    },
    {
      "cell_type": "markdown",
      "metadata": {},
      "source": [
        "### 2. Compute the empirical p-value and z-score from distribution of surrogates\n\nFirst generate data that simulates a change in spike rate due to an event.\nIn this example case, we will be simulating spikes at 1Hz for 3 seconds for the pre-event, and\nspikes at at 5Hz for 3 seconds for the post-event.\nNext, calculate change in firing rate of the post-event with respect to the pre-event\n(delta = post firing rate - pre firing rate).\nTo generate our distribution of surrogates, shuffle the data 100 times (using isis), and\ncalculate change in firing rate for each of the 100 shuffled spike times.\n\nCompute the empirical p-value and z-score of delta firing rate from the distribution of\nsurrogates. Lastly, plot the distribution of surrogates with calculated delta firing rate.\n\n\n"
      ]
    },
    {
      "cell_type": "code",
      "execution_count": null,
      "metadata": {
        "collapsed": false
      },
      "outputs": [],
      "source": [
        "# Simulate change in firing rate given an event\n# Generate pre-event spike times: spikes at 5 Hz for 3 seconds (time_pre)\ntime_pre = 3\nspikes_pre = sim_spiketimes(5, time_pre, 'poisson', refractory=0.001)\n\n# Generate pre-event spike times: spikes at 10 Hz for 3 seconds (time_post)\ntime_post = 3\n# Add time_pre to the post spikes, since we will stack the pre and the post\nspikes_post = sim_spiketimes(10, time_post, 'poisson', refractory=0.001) + time_pre\n\n# Stack pre and post\nspikes_pre_post = np.append(spikes_pre, spikes_post)"
      ]
    },
    {
      "cell_type": "code",
      "execution_count": null,
      "metadata": {
        "collapsed": false
      },
      "outputs": [],
      "source": [
        "# Get firing rate (spikes/s) post-event (on the final time_post seconds)\nfr_post = compute_firing_rate(restrict_range(spikes_pre_post, min_value=time_pre, max_value=None))\n\n# Get firing rate (spikes/s) pre-event (on the initial time_pre seconds)\nfr_pre = compute_firing_rate(restrict_range(spikes_pre_post, min_value=None, max_value=time_pre))\n\n# Get firing rate difference between post and pre\n# This will be the value we compute the empirical p-value and the z-score for\nfr_diff = fr_post - fr_pre"
      ]
    },
    {
      "cell_type": "code",
      "execution_count": null,
      "metadata": {
        "collapsed": false
      },
      "outputs": [],
      "source": [
        "# Get shuffled spikes_pre_post (used to calculate surrogates)\nn_shuff = 100\nshuff_spikes_pre_post = shuffle_isis(spikes_pre_post, n_shuffles=n_shuff)\n\n# Calculate surrogates\n# This will be the surrogate distribution used to compute the empirical p-value and the z-score\nsurr = np.zeros((n_shuff,))\nfor ind in range(n_shuff):\n    fr_post = (compute_firing_rate(restrict_range(shuff_spikes_pre_post[ind, :],\n                                                  min_value=time_pre, max_value=None)))\n    fr_pre = (compute_firing_rate(restrict_range(shuff_spikes_pre_post[ind, :],\n                                                 min_value=None, max_value=time_pre)))\n    surr[ind] = fr_post - fr_pre\n\nprint(np.min(surr), np.max(surr))"
      ]
    },
    {
      "cell_type": "code",
      "execution_count": null,
      "metadata": {
        "collapsed": false
      },
      "outputs": [],
      "source": [
        "# Calculate empirical p-value and z-score of difference in firing rate with respect to surrogates\npval, zscore = compute_surrogate_stats(fr_diff, surr)\n\nprint(f'The z-score of the delta firing rate (after - before the event) is {round(zscore, 2)}, \\\nand the empirical p-value is {round(pval, 2)}')"
      ]
    },
    {
      "cell_type": "code",
      "execution_count": null,
      "metadata": {
        "collapsed": false
      },
      "outputs": [],
      "source": [
        "# Plot distribution of surrogates, with calculated delta firing rate & p-value\nplot_surrogates(surr, fr_diff, pval)"
      ]
    }
  ],
  "metadata": {
    "kernelspec": {
      "display_name": "Python 3",
      "language": "python",
      "name": "python3"
    },
    "language_info": {
      "codemirror_mode": {
        "name": "ipython",
        "version": 3
      },
      "file_extension": ".py",
      "mimetype": "text/x-python",
      "name": "python",
      "nbconvert_exporter": "python",
      "pygments_lexer": "ipython3",
      "version": "3.8.3"
    }
  },
  "nbformat": 4,
  "nbformat_minor": 0
}