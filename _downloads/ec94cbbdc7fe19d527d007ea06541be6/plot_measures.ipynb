{
  "cells": [
    {
      "cell_type": "markdown",
      "metadata": {},
      "source": [
        "\n# Measures & Conversions\n\nApply basic measures and conversions to spiking data.\n\nThis tutorial primarily covers the ``spiketools.measures`` module.\n"
      ]
    },
    {
      "cell_type": "markdown",
      "metadata": {},
      "source": [
        "## Applying measures & conversions to spiking data\n\n### Sections\n\nThis tutorial contains the following sections:\n\n1. Convert spiking data between different representations\n2. Compute measures of spiking activity\n3. Compute measures of trial spiking activity\n4. Compute event-related measures of spiking activity\n\n\n"
      ]
    },
    {
      "cell_type": "code",
      "execution_count": null,
      "metadata": {
        "collapsed": false
      },
      "outputs": [],
      "source": [
        "# Import auxiliary libraries\nimport numpy as np\n\n# Import measure related functions\nfrom spiketools.measures.spikes import (compute_firing_rate, compute_isis,\n                                        compute_cv, compute_fano_factor)\nfrom spiketools.measures.conversions import (convert_times_to_train, convert_train_to_times,\n                                             convert_isis_to_times)\nfrom spiketools.measures.trials import (compute_trial_frs, compute_pre_post_rates,\n                                        compute_segment_frs, compute_pre_post_averages,\n                                        compute_pre_post_diffs)\n\n# Import simulation functions\nfrom spiketools.sim import sim_spiketimes\n\n# Import plot functions\nfrom spiketools.plts.spikes import plot_isis\nfrom spiketools.plts.trials import plot_rasters\nfrom spiketools.plts.spatial import plot_heatmap"
      ]
    },
    {
      "cell_type": "markdown",
      "metadata": {},
      "source": [
        "### Convert spiking data\n\nFirst, we will simulate some spike times to use for the examples.\n\nHere, spike time refers to a representation of spiking activity based on listing the times at\nwhich spikes occur. By convention, spiketools encodes all spike times in seconds.\n\nAn example of spike times is provided below.\n\n\n"
      ]
    },
    {
      "cell_type": "code",
      "execution_count": null,
      "metadata": {
        "collapsed": false
      },
      "outputs": [],
      "source": [
        "# Generate spike times, simulated at 25 Hz for 5 seconds\nspike_times = sim_spiketimes(25, 5, 'poisson', refractory=0.001)\n\n# Print out the first few simulated spike times\nprint(spike_times[0:5])"
      ]
    },
    {
      "cell_type": "markdown",
      "metadata": {},
      "source": [
        "Now we can convert our simulated spike times to a binary spike train.\n\nA spike train is a representation of spiking activity in which each\nelement in a binary represents a time step, and a value of 1 represents that\na spike occurred at that time point.\n\nTo convert from spike times to a spike train, we can use the\n:func:`~.convert_times_to_train` function.\n\nExample spike times and the corresponding spike train are provided below,\nas well as a raster plot of the spike times.\n\n\n"
      ]
    },
    {
      "cell_type": "code",
      "execution_count": null,
      "metadata": {
        "collapsed": false
      },
      "outputs": [],
      "source": [
        "# Convert a vector of spike times in seconds to a binary spike train using sampling rate of 1000\nspike_train = convert_times_to_train(spike_times, fs=1000)\n\n# Print the first 20 spikes in the binary spike train\nprint('Spike times:', spike_times[spike_times < (20 / 1000)])\nprint('Corresponding spike train:', spike_train[:20])\n\n# Plot the first second of the spike times\nplot_rasters(spike_times[spike_times < 1], title='Raster of spike times')"
      ]
    },
    {
      "cell_type": "markdown",
      "metadata": {},
      "source": [
        "The inverse conversion, of converting a spike train to spike times, can be done with the\n:func:`~.convert_train_to_times` function.\n\nNote that the converted data has the same raster plot as the original data (as it should).\n\n\n"
      ]
    },
    {
      "cell_type": "code",
      "execution_count": null,
      "metadata": {
        "collapsed": false
      },
      "outputs": [],
      "source": [
        "# Convert a binary spike train with sampling rate of 1000 to spike times in seconds\nspike_times = convert_train_to_times(spike_train, fs=1000)\n\n# Plot the first second of the spike times\nplot_rasters(spike_times[spike_times < 1], title='Raster spike times from spike train')"
      ]
    },
    {
      "cell_type": "markdown",
      "metadata": {},
      "source": [
        "Another representation of spike activity is the inter-spike intervals, which\nreflects the distribution of time-values between each spike.\n\nWe can convert from the inter-spike intervals to spike times using the\n:func:`~.convert_isis_to_times` function.\n\nHere we can see the converted data has the same raster plot as the original data, minus an offset.\n\n\n"
      ]
    },
    {
      "cell_type": "code",
      "execution_count": null,
      "metadata": {
        "collapsed": false
      },
      "outputs": [],
      "source": [
        "# Compute the interval-spike intervals of a vector of spike times in seconds\nisis = compute_isis(spike_times)\n\n# Convert a vector of inter-spike intervals in seconds to spike times in seconds\nspike_times = convert_isis_to_times(isis, offset=0, add_offset=True)\n\n# Plot the first second of the spike times\nplot_rasters(spike_times[spike_times < 1], title='Raster spike times from ISIS')"
      ]
    },
    {
      "cell_type": "markdown",
      "metadata": {},
      "source": [
        "### Compute measures of spiking activity\n\nThe firing rate of a neuron measures how fast the neuron is firing, providing\na measure of spiking activity in spikes / second, representing the rate of firing.\n\nWe can use the :func:`~.compute_firing_rate` function to compute the firing rate\nfrom a vector of spike times.\n\n\n"
      ]
    },
    {
      "cell_type": "code",
      "execution_count": null,
      "metadata": {
        "collapsed": false
      },
      "outputs": [],
      "source": [
        "# Compute the spike rate from spike times\nspike_rate = compute_firing_rate(spike_times)\nprint('The spike rate is {:1.3f} Hz'.format(spike_rate))"
      ]
    },
    {
      "cell_type": "markdown",
      "metadata": {},
      "source": [
        "To compute the inter-spike intervals, which measures the time intervals between\nsuccessive spikes, we can use the :func:`~.compute_isis` function.\n\n\n"
      ]
    },
    {
      "cell_type": "code",
      "execution_count": null,
      "metadata": {
        "collapsed": false
      },
      "outputs": [],
      "source": [
        "# Compute the interval-spike intervals for a vector of spike times\nisis = compute_isis(spike_times)\n\n# Plot the inter-spike intervals\nplot_isis(isis, bins=None, range=None, density=False, ax=None)"
      ]
    },
    {
      "cell_type": "markdown",
      "metadata": {},
      "source": [
        "Next, we can compute the coefficient of variation of ISIs that we just calculated.\n\nThe coefficient of variation measures the variability of the spiking activity.\n\nWe can compute the coefficient of variation using the :func:`~.compute_cv` function.\n\n\n"
      ]
    },
    {
      "cell_type": "code",
      "execution_count": null,
      "metadata": {
        "collapsed": false
      },
      "outputs": [],
      "source": [
        "# Compute the coefficient of variation\ncv = compute_cv(isis)\nprint('Coefficient of variation: {:1.3f}'.format(cv))"
      ]
    },
    {
      "cell_type": "markdown",
      "metadata": {},
      "source": [
        "Finally, we can compute the fano factor, which is another measure of the variability\nof spiking activity, computed from the spike train.\n\nThe fano factor can be computed with the :func:`~.compute_fano_factor` function.\n\n\n"
      ]
    },
    {
      "cell_type": "code",
      "execution_count": null,
      "metadata": {
        "collapsed": false
      },
      "outputs": [],
      "source": [
        "# Compute the fano factor of a binary spike train\nfano = compute_fano_factor(spike_train)\nprint('Fano factor: {:1.3f}'.format(fano))"
      ]
    },
    {
      "cell_type": "markdown",
      "metadata": {},
      "source": [
        "### Compute measures of trial spiking activity\n\nIn this section we explore measures of trial-epoched data.\n\nFirst, to do so, we will simulate a set of spike times for 5 different trials.\n\nFor each trial, an event that changes the firing rate is simulated.\nPlot the spiking activity across trials\n\n\n"
      ]
    },
    {
      "cell_type": "code",
      "execution_count": null,
      "metadata": {
        "collapsed": false
      },
      "outputs": [],
      "source": [
        "# Number of trials\nn_trials = 5\n\n# Define simulation settings\ntime_pre = 2\nfr_pre = 5\ntime_post = 4\nfr_post = 10\n\n# Simulate spiking activity across trials\ntrial_spikes = [None] * n_trials\nfor trial_idx in range(n_trials):\n\n    # Generate pre-event spike times: spikes at 5 Hz for 2 seconds (time_pre)\n    spikes_pre = sim_spiketimes(fr_pre, time_pre, 'poisson', refractory=0.001)\n\n    # Generate post-event spike times: spikes at 10 Hz for 4 seconds (time_post)\n    # Add time_pre to the post spikes, since we will stack the pre and the post\n    spikes_post = sim_spiketimes(fr_post, time_post, 'poisson', refractory=0.001) + time_pre\n\n    # Stack pre and post, making each trial 6 seconds long\n    trial_spikes[trial_idx] = np.append(spikes_pre, spikes_post)\n\n# Plot the spike times across trials\nplot_rasters(trial_spikes, title='Spikes per trial')"
      ]
    },
    {
      "cell_type": "markdown",
      "metadata": {},
      "source": [
        "Now we can compute the firing rates for each 2 second bin within each trial.\n\nTo do so, we can use the :func:`~.compute_trial_frs` function.\n\n\n"
      ]
    },
    {
      "cell_type": "code",
      "execution_count": null,
      "metadata": {
        "collapsed": false
      },
      "outputs": [],
      "source": [
        "# Compute firing rates per trial, using a 2 second bin width\nbin_width = 2\ntrial_times, trial_frs = compute_trial_frs(trial_spikes, bin_width, time_range=[0, 6], smooth=None)\n\n# Plot trial firing rates (2 second bins)\nplot_heatmap(trial_frs, title='Trial FRs, 2s bins')"
      ]
    },
    {
      "cell_type": "markdown",
      "metadata": {},
      "source": [
        "Similarly, we can compute the firing rates for each segment within each trial.\n\nFor this, we use the :func:`~.compute_segment_frs` function.\n\n\n"
      ]
    },
    {
      "cell_type": "code",
      "execution_count": null,
      "metadata": {
        "collapsed": false
      },
      "outputs": [],
      "source": [
        "# Compute firing rates for segments for two example trials\n# Note that we can use different segments per trial\nsegments = np.array([[0, time_pre, time_pre + time_post],\n                     [1, time_pre + 1, time_pre + time_post]])\nsegment_frs = compute_segment_frs(trial_spikes[:2], segments)\n\n# Plot trial firing rates (segments)\nplot_heatmap(segment_frs, title='Trial FRs, segments')"
      ]
    },
    {
      "cell_type": "markdown",
      "metadata": {},
      "source": [
        "### Compute measures of spiking activity pre- and post-event\n\nFirst, we calculate the firing rates before and after the event, with\nthe :func:`~.compute_pre_post_rates` function.\n\n\n"
      ]
    },
    {
      "cell_type": "code",
      "execution_count": null,
      "metadata": {
        "collapsed": false
      },
      "outputs": [],
      "source": [
        "# Compute firing rates pre and post the event for all trials\npre_window = [0, time_pre]\npost_window = [time_pre, time_pre + time_post]\nfrs_pre, frs_post = compute_pre_post_rates(trial_spikes, pre_window, post_window)"
      ]
    },
    {
      "cell_type": "markdown",
      "metadata": {},
      "source": [
        "Now we can compute the average firing rates before and after the event,\nusing the :func:`~.compute_pre_post_averages` function.\n\n\n"
      ]
    },
    {
      "cell_type": "code",
      "execution_count": null,
      "metadata": {
        "collapsed": false
      },
      "outputs": [],
      "source": [
        "# Compute the average firing rates\npre_post_avg = compute_pre_post_averages(frs_pre, frs_post, avg_type='mean')\n\n# Print the average firing rates\nprint('Average FR pre-event: {:1.3f} Hz'.format(pre_post_avg[0]))\nprint('Average FR post-event: {:1.3f} Hz'.format(pre_post_avg[1]))"
      ]
    },
    {
      "cell_type": "markdown",
      "metadata": {},
      "source": [
        "We can also compute the difference between the firing rates before and after the event,\nwith the :func:`~.compute_pre_post_diffs` function.\n\n\n"
      ]
    },
    {
      "cell_type": "code",
      "execution_count": null,
      "metadata": {
        "collapsed": false
      },
      "outputs": [],
      "source": [
        "# Compute the difference between firing rates\npre_post_diffs = compute_pre_post_diffs(frs_pre, frs_post, average=True, avg_type='mean')\n\n# Print the average firing rates\nprint('Difference between pre- and post-event FR: {:1.3f}'.format(pre_post_diffs))"
      ]
    }
  ],
  "metadata": {
    "kernelspec": {
      "display_name": "Python 3",
      "language": "python",
      "name": "python3"
    },
    "language_info": {
      "codemirror_mode": {
        "name": "ipython",
        "version": 3
      },
      "file_extension": ".py",
      "mimetype": "text/x-python",
      "name": "python",
      "nbconvert_exporter": "python",
      "pygments_lexer": "ipython3",
      "version": "3.8.11"
    }
  },
  "nbformat": 4,
  "nbformat_minor": 0
}