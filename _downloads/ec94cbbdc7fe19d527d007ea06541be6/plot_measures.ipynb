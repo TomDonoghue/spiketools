{
  "cells": [
    {
      "cell_type": "markdown",
      "metadata": {},
      "source": [
        "\n# Measures & Conversions\n\nApply basic measures and conversions to spiking data.\n\nThis tutorial primarily covers the ``spiketools.measures`` module.\n"
      ]
    },
    {
      "cell_type": "markdown",
      "metadata": {},
      "source": [
        "## Applying measures & conversions to spiking data\n\nThis tutorial explores functionality for converting between different representations and\napplying measures to spike data. To show this functionality, we will use some example\nsimulated data.\n\n### Sections\n\nThis tutorial contains the following sections:\n\n1. Convert spiking data between different representations\n2. Compute measures of spiking activity\n3. Compute measures of trial spiking activity\n4. Compute event-related measures of spiking activity\n\n\n"
      ]
    },
    {
      "cell_type": "code",
      "execution_count": null,
      "metadata": {
        "collapsed": false
      },
      "outputs": [],
      "source": [
        "# Import auxiliary libraries\nimport numpy as np\n\n# Import measure related functions\nfrom spiketools.measures.spikes import (compute_firing_rate, compute_isis,\n                                        compute_cv, compute_fano_factor)\nfrom spiketools.measures.conversions import (convert_times_to_train, convert_train_to_times,\n                                             convert_isis_to_times)\nfrom spiketools.measures.trials import (compute_trial_frs, compute_pre_post_rates,\n                                        compute_segment_frs, compute_pre_post_averages,\n                                        compute_pre_post_diffs)\n\n# Import simulation functions\nfrom spiketools.sim import sim_spiketimes\nfrom spiketools.sim.trials import sim_trials_poisson\n\n# Import plot functions\nfrom spiketools.plts.spikes import plot_isis\nfrom spiketools.plts.trials import plot_rasters, plot_rate_by_time"
      ]
    },
    {
      "cell_type": "markdown",
      "metadata": {},
      "source": [
        "### Convert spiking data\n\nFirst, we will simulate some spike times to use for the examples.\n\nHere, spike time refers to a representation of spiking activity based on listing the times at\nwhich spikes occur. By convention, spiketools encodes all spike times in seconds.\n\nAn example of spike times is provided below.\n\n\n"
      ]
    },
    {
      "cell_type": "code",
      "execution_count": null,
      "metadata": {
        "collapsed": false
      },
      "outputs": [],
      "source": [
        "# Generate spike times, simulated at 25 Hz for 5 seconds\nspike_times = sim_spiketimes(25, 5, 'poisson', refractory=0.001)\n\n# Print out the first few simulated spike times\nprint(spike_times[0:5])"
      ]
    },
    {
      "cell_type": "markdown",
      "metadata": {},
      "source": [
        "Now we can convert our simulated spike times to a binary spike train.\n\nA spike train is a representation of spiking activity in which each\nelement in a binary represents a time step, and a value of 1 represents that\na spike occurred at that time point.\n\nTo convert from spike times to a spike train, we can use the\n:func:`~.convert_times_to_train` function.\n\nExample spike times and the corresponding spike train are provided below,\nas well as a raster plot of the spike times.\n\n\n"
      ]
    },
    {
      "cell_type": "code",
      "execution_count": null,
      "metadata": {
        "collapsed": false
      },
      "outputs": [],
      "source": [
        "# Convert a vector of spike times in seconds to a binary spike train using sampling rate of 1000\nspike_train = convert_times_to_train(spike_times, fs=1000)\n\n# Print the first 25 samples in the binary spike train\nprint('Spike times:', spike_times[spike_times < (25 / 1000)])\nprint('Corresponding spike train:', spike_train[:25])\n\n# Plot the first second of the spike times\nplot_rasters(spike_times[spike_times < 1], title='Raster of spike times')"
      ]
    },
    {
      "cell_type": "markdown",
      "metadata": {},
      "source": [
        "The inverse conversion, of converting a spike train to spike times, can be done with the\n:func:`~.convert_train_to_times` function.\n\nNote that the converted data has the same raster plot as the original data (as it should).\n\n\n"
      ]
    },
    {
      "cell_type": "code",
      "execution_count": null,
      "metadata": {
        "collapsed": false
      },
      "outputs": [],
      "source": [
        "# Convert a binary spike train with sampling rate of 1000 to spike times in seconds\nspike_times = convert_train_to_times(spike_train, fs=1000)\n\n# Plot the first second of the spike times\nplot_rasters(spike_times[spike_times < 1], title='Raster spike times from spike train')"
      ]
    },
    {
      "cell_type": "markdown",
      "metadata": {},
      "source": [
        "Another representation of spike activity is the inter-spike interval, which\nreflects the distribution of time-values between each spike.\n\nWe can convert from the inter-spike intervals to spike times using the\n:func:`~.convert_isis_to_times` function.\n\nHere we can see the converted data has the same raster plot as the original data.\n\n\n"
      ]
    },
    {
      "cell_type": "code",
      "execution_count": null,
      "metadata": {
        "collapsed": false
      },
      "outputs": [],
      "source": [
        "# Compute the interval-spike intervals of a vector of spike times in seconds\nisis = compute_isis(spike_times)\n\n# Convert a vector of inter-spike intervals in seconds to spike times in seconds\nspike_times = convert_isis_to_times(isis)\n\n# Plot the first second of the spike times\nplot_rasters(spike_times[spike_times < 1], title='Raster spike times from ISIS')"
      ]
    },
    {
      "cell_type": "markdown",
      "metadata": {},
      "source": [
        "### Compute measures of spiking activity\n\nThe firing rate of a neuron measures how fast the neuron is firing. The firing rate reflects\na measure of spiking activity in spikes / second, representing the rate of firing.\n\nWe can use the :func:`~.compute_firing_rate` function to compute the firing rate\nfrom a vector of spike times.\n\n\n"
      ]
    },
    {
      "cell_type": "code",
      "execution_count": null,
      "metadata": {
        "collapsed": false
      },
      "outputs": [],
      "source": [
        "# Compute the firing rate from spike times\nfiring_rate = compute_firing_rate(spike_times)\nprint('The firing rate is {:1.3f} Hz'.format(firing_rate))"
      ]
    },
    {
      "cell_type": "markdown",
      "metadata": {},
      "source": [
        "To compute the inter-spike intervals, which measures the time intervals between\nsuccessive spikes, we can use the :func:`~.compute_isis` function.\n\n\n"
      ]
    },
    {
      "cell_type": "code",
      "execution_count": null,
      "metadata": {
        "collapsed": false
      },
      "outputs": [],
      "source": [
        "# Compute the interval-spike intervals for a vector of spike times\nisis = compute_isis(spike_times)\n\n# Plot the inter-spike intervals\nplot_isis(isis, bins=None, range=None, density=False, ax=None)"
      ]
    },
    {
      "cell_type": "markdown",
      "metadata": {},
      "source": [
        "Next, we can compute the coefficient of variation of the ISIs that we just calculated.\n\nThe coefficient of variation measures the variability of the spiking activity.\n\nWe can compute the coefficient of variation using the :func:`~.compute_cv` function.\n\n\n"
      ]
    },
    {
      "cell_type": "code",
      "execution_count": null,
      "metadata": {
        "collapsed": false
      },
      "outputs": [],
      "source": [
        "# Compute the coefficient of variation\ncv = compute_cv(isis)\nprint('Coefficient of variation: {:1.3f}'.format(cv))"
      ]
    },
    {
      "cell_type": "markdown",
      "metadata": {},
      "source": [
        "Finally, we can compute the fano factor, which is another measure of the variability\nof spiking activity, computed from the spike train.\n\nThe fano factor can be computed with the :func:`~.compute_fano_factor` function.\n\n\n"
      ]
    },
    {
      "cell_type": "code",
      "execution_count": null,
      "metadata": {
        "collapsed": false
      },
      "outputs": [],
      "source": [
        "# Compute the fano factor of a binary spike train\nfano = compute_fano_factor(spike_train)\nprint('Fano factor: {:1.3f}'.format(fano))"
      ]
    },
    {
      "cell_type": "markdown",
      "metadata": {},
      "source": [
        "### Compute measures of trial spiking activity\n\nIn this section we will now explore measures of trial-epoched data.\n\nFirst, to do so, we will simulate a set of spike times for 5 different trials.\n\nFor each trial, we simulate an event that changes the firing rate, such that\nthere is a difference in firing rate before / after the event time.\n\n"
      ]
    },
    {
      "cell_type": "code",
      "execution_count": null,
      "metadata": {
        "collapsed": false
      },
      "outputs": [],
      "source": [
        "# Define simulation settings\nn_trials = 5\nrate_pre = 5\nrate_post = 10\ntime_pre = 3\ntime_post = 3\n\n# Simulate spiking activity across trials\ntrial_spikes = sim_trials_poisson(n_trials, rate_pre, rate_post, time_pre, time_post)"
      ]
    },
    {
      "cell_type": "markdown",
      "metadata": {},
      "source": [
        "First, lets visualize the simulated spiking activity across trials.\n\n\n"
      ]
    },
    {
      "cell_type": "code",
      "execution_count": null,
      "metadata": {
        "collapsed": false
      },
      "outputs": [],
      "source": [
        "# Plot the spike times across trials\nplot_rasters(trial_spikes, title='Spikes per trial')"
      ]
    },
    {
      "cell_type": "markdown",
      "metadata": {},
      "source": [
        "Now we can compute the firing rates across times for each trial.\n\nTo do so, we can use the :func:`~.compute_trial_frs` function.\n\n\n"
      ]
    },
    {
      "cell_type": "code",
      "execution_count": null,
      "metadata": {
        "collapsed": false
      },
      "outputs": [],
      "source": [
        "# Compute firing rates per trial\ntime_bin_length = 1\ntrial_times, trial_frs = compute_trial_frs(trial_spikes, time_bin_length,\n                                           time_range=[-time_pre, time_post])"
      ]
    },
    {
      "cell_type": "code",
      "execution_count": null,
      "metadata": {
        "collapsed": false
      },
      "outputs": [],
      "source": [
        "# Plot continuous firing rates across, separately for each trial\nplot_rate_by_time(trial_times, trial_frs, vline=0,\n                  title='Continuous Firing Rates per Trial')"
      ]
    },
    {
      "cell_type": "markdown",
      "metadata": {},
      "source": [
        "Above, we used the :func:`~.plot_rate_by_time` function to plot the continuous firing rates.\n\nUsing the same function, we can also visualize the average across trials.\n\n\n"
      ]
    },
    {
      "cell_type": "code",
      "execution_count": null,
      "metadata": {
        "collapsed": false
      },
      "outputs": [],
      "source": [
        "# Plot the average firing rate across trials, by specifying average and shade\nplot_rate_by_time(trial_times, trial_frs, average='mean', shade='sem', vline=0,\n                  title='Average Firing Rate Across Trials')"
      ]
    },
    {
      "cell_type": "markdown",
      "metadata": {},
      "source": [
        "In the above, we compute the firing rates across evently distributed 1 second windows.\n\nIf instead we wanted to compute firing rates for a specified set of time segments, we\nwe can use the :func:`~.compute_segment_frs` function.\n\nComputing the firing rates across segments can be useful if, for example, you want to\nspecify specific time ranges, that might occur at specific points in time and/or be unequal\nlength, rather than computing across a continuous set of windows. These segment definitions\ncan also vary by trial.\n\nAs an example of this, we could define a time segment in which we expect a post stimulus\nresponse, as compared to an equal length time segment before any stimulus response.\n\nNote that we can use different segments per trial.\n\n\n"
      ]
    },
    {
      "cell_type": "code",
      "execution_count": null,
      "metadata": {
        "collapsed": false
      },
      "outputs": [],
      "source": [
        "# Compute firing rates for segments for two example trials\nsegments = np.array([[-2, 0, 1, 2],\n                     [-2, 0, 1, 3]])\nsegment_frs = compute_segment_frs(trial_spikes[:2], segments)\n\n# Plot trial firing rates across segments\nsegment_labels = [0, 1, 2]\nplot_rate_by_time(segment_labels, segment_frs, xlabel='Segments',\n                  title='Firing Rates Across Segments')"
      ]
    },
    {
      "cell_type": "markdown",
      "metadata": {},
      "source": [
        "### Compute measures of spiking activity pre- and post-event\n\nWe can also compute measures of interest across event-related data.\n\nFirst, we calculate the firing rates before and after the event, with\nthe :func:`~.compute_pre_post_rates` function.\n\n\n"
      ]
    },
    {
      "cell_type": "code",
      "execution_count": null,
      "metadata": {
        "collapsed": false
      },
      "outputs": [],
      "source": [
        "# Compute firing rates pre and post the event for all trials\npre_window = [-time_pre, 0]\npost_window = [0, time_post]\nfrs_pre, frs_post = compute_pre_post_rates(trial_spikes, pre_window, post_window)"
      ]
    },
    {
      "cell_type": "markdown",
      "metadata": {},
      "source": [
        "Now we can compute the average firing rates before and after the event,\nusing the :func:`~.compute_pre_post_averages` function.\n\n\n"
      ]
    },
    {
      "cell_type": "code",
      "execution_count": null,
      "metadata": {
        "collapsed": false
      },
      "outputs": [],
      "source": [
        "# Compute the average firing rates\npre_post_avg = compute_pre_post_averages(frs_pre, frs_post, avg_type='mean')\n\n# Print the average firing rates\nprint('Average FR pre-event: {:1.3f} Hz'.format(pre_post_avg[0]))\nprint('Average FR post-event: {:1.3f} Hz'.format(pre_post_avg[1]))"
      ]
    },
    {
      "cell_type": "markdown",
      "metadata": {},
      "source": [
        "We can also compute the difference between the firing rates before and after the event,\nwith the :func:`~.compute_pre_post_diffs` function.\n\n\n"
      ]
    },
    {
      "cell_type": "code",
      "execution_count": null,
      "metadata": {
        "collapsed": false
      },
      "outputs": [],
      "source": [
        "# Compute the difference between firing rates\npre_post_diffs = compute_pre_post_diffs(frs_pre, frs_post, average=True, avg_type='mean')\n\n# Print the average firing rates\nprint('Difference between pre- and post-event FR: {:1.3f}'.format(pre_post_diffs))"
      ]
    },
    {
      "cell_type": "markdown",
      "metadata": {},
      "source": [
        "### Conclusion\n\nIn this tutorial, we covered measures and conversions available in the spiketools module.\n\n\n"
      ]
    }
  ],
  "metadata": {
    "kernelspec": {
      "display_name": "Python 3",
      "language": "python",
      "name": "python3"
    },
    "language_info": {
      "codemirror_mode": {
        "name": "ipython",
        "version": 3
      },
      "file_extension": ".py",
      "mimetype": "text/x-python",
      "name": "python",
      "nbconvert_exporter": "python",
      "pygments_lexer": "ipython3",
      "version": "3.8.11"
    }
  },
  "nbformat": 4,
  "nbformat_minor": 0
}