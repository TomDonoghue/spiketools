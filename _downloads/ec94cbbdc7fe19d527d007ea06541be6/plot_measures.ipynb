{
  "cells": [
    {
      "cell_type": "code",
      "execution_count": null,
      "metadata": {
        "collapsed": false
      },
      "outputs": [],
      "source": [
        "%matplotlib inline"
      ]
    },
    {
      "cell_type": "markdown",
      "metadata": {},
      "source": [
        "\n# Measures & Conversions\n\nApply basic measures and conversions to spiking data.\n\nThis tutorial primarily covers the ``spiketools.measures`` module.\n"
      ]
    },
    {
      "cell_type": "markdown",
      "metadata": {},
      "source": [
        "## Applying measures & conversions to spiking data\n\n### Sections\n\nThis tutorial contains the following sections:\n\n1. Compute measures of spiking activity\n2. Convert spiking data\n\n\n"
      ]
    },
    {
      "cell_type": "code",
      "execution_count": null,
      "metadata": {
        "collapsed": false
      },
      "outputs": [],
      "source": [
        "# Import auxiliary libraries\nimport numpy as np\n\n# Import measure related functions\nfrom spiketools.measures.measures import (compute_firing_rate, compute_isis, compute_cv, \n                                          compute_fano_factor)\nfrom spiketools.measures.conversions import (convert_times_to_train, convert_train_to_times, \n                                             convert_isis_to_times)\nfrom spiketools.plts.spikes import plot_isis\nfrom spiketools.sim.train import sim_spiketrain_prob\nfrom spiketools.plts.trials import plot_rasters"
      ]
    },
    {
      "cell_type": "markdown",
      "metadata": {},
      "source": [
        "### Compute measures of spiking activity\n\nFirst, we estimate spike rate from a vector of spike times, in seconds.\n\nHere, spike time refers to a representation of spiking activity based on listing the times at\nwhich spikes occur and spike rate measures how fast an individual neuron is firing. Examples of spike\ntrain and spike times are provided below.\n\n\n"
      ]
    },
    {
      "cell_type": "code",
      "execution_count": null,
      "metadata": {
        "collapsed": false
      },
      "outputs": [],
      "source": [
        "# Generate a binary spike train with sampling rate of 1000 and its corresponding spike times in seconds\np_spiking = np.random.random(100)\nspike_train = sim_spiketrain_prob(p_spiking)\nspike_times = convert_train_to_times(spike_train)\n\n# Print the first 20 spikes in the binary spike train\nprint(spike_train[:20])\n\n# Plot the spike times\nplot_rasters(spike_times)"
      ]
    },
    {
      "cell_type": "code",
      "execution_count": null,
      "metadata": {
        "collapsed": false
      },
      "outputs": [],
      "source": [
        "# Compute the spike rate given a vector of spike times in seconds\nspike_rate = compute_firing_rate(spike_times)\nprint('The spike rate is', spike_rate)"
      ]
    },
    {
      "cell_type": "markdown",
      "metadata": {},
      "source": [
        "Then, we can compute the inter-spike intervals, measures of the time intervals between\nsuccessive spikes, of that vector of spike times.\n\n\n"
      ]
    },
    {
      "cell_type": "code",
      "execution_count": null,
      "metadata": {
        "collapsed": false
      },
      "outputs": [],
      "source": [
        "# Compute the interval-spike intervals of a vector of spike times in seconds\nisis = compute_isis(spike_times)\n\n# Plot the inter-spike intervals\nplot_isis(isis, bins=None, range=None, density=False, ax=None)"
      ]
    },
    {
      "cell_type": "markdown",
      "metadata": {},
      "source": [
        "Next, we can further compute the coefficient of variation of interval-spike intervals we just calculated.\n\n\n"
      ]
    },
    {
      "cell_type": "code",
      "execution_count": null,
      "metadata": {
        "collapsed": false
      },
      "outputs": [],
      "source": [
        "# Compute the coefficient of variation\ncv = compute_cv(isis)\nprint('Coefficient of variation:', cv)"
      ]
    },
    {
      "cell_type": "markdown",
      "metadata": {},
      "source": [
        "Finally, we can compute the fano factor, which is a measure of the variability of unit firing, of a spike train.\n\n\n"
      ]
    },
    {
      "cell_type": "code",
      "execution_count": null,
      "metadata": {
        "collapsed": false
      },
      "outputs": [],
      "source": [
        "# Compute the fano factor of a binary spike train\nfano = compute_fano_factor(spike_train)\nprint('Fano factor: {:1.2f}'.format(fano))"
      ]
    },
    {
      "cell_type": "markdown",
      "metadata": {},
      "source": [
        "### Convert spiking data\n\nFirst, we convert a vector of spike times in seconds to a binary spike train, a representation \nof spiking activity in which each 1 represents a spike.\n\n\n"
      ]
    },
    {
      "cell_type": "code",
      "execution_count": null,
      "metadata": {
        "collapsed": false
      },
      "outputs": [],
      "source": [
        "# Convert a vector of spike times in seconds to a binary spike train using sampling rate of 1000 \nspike_train = convert_times_to_train(spike_times, fs=1000)\n\n# Print the first 20 spikes in the binary spike train\nprint('Spike train:', spike_train[:20])"
      ]
    },
    {
      "cell_type": "markdown",
      "metadata": {},
      "source": [
        "Similarly, we can also convert binary spike train to spike times in seconds.\n\n\n"
      ]
    },
    {
      "cell_type": "code",
      "execution_count": null,
      "metadata": {
        "collapsed": false
      },
      "outputs": [],
      "source": [
        "# Convert a binary spike train with sampling rate of 1000 to spike times in seconds\nspike_times = convert_train_to_times(spike_train, fs=1000)\n\n# Plot the spike times\nplot_rasters(spike_times)"
      ]
    },
    {
      "cell_type": "markdown",
      "metadata": {},
      "source": [
        "Finally, we can convert a vector of inter-spike intervals to spike times.\n\n\n"
      ]
    },
    {
      "cell_type": "code",
      "execution_count": null,
      "metadata": {
        "collapsed": false
      },
      "outputs": [],
      "source": [
        "# Convert a vector of inter-spike intervals in seconds to spike times in seconds\nspike_times = convert_isis_to_times(isis, offset=0, add_offset=True)\n\n# Plot the spike times\nplot_rasters(spike_times)"
      ]
    }
  ],
  "metadata": {
    "kernelspec": {
      "display_name": "Python 3",
      "language": "python",
      "name": "python3"
    },
    "language_info": {
      "codemirror_mode": {
        "name": "ipython",
        "version": 3
      },
      "file_extension": ".py",
      "mimetype": "text/x-python",
      "name": "python",
      "nbconvert_exporter": "python",
      "pygments_lexer": "ipython3",
      "version": "3.8.3"
    }
  },
  "nbformat": 4,
  "nbformat_minor": 0
}