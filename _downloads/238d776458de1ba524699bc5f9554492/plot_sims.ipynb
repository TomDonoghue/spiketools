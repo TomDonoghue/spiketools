{
  "cells": [
    {
      "cell_type": "code",
      "execution_count": null,
      "metadata": {
        "collapsed": false
      },
      "outputs": [],
      "source": [
        "%matplotlib inline"
      ]
    },
    {
      "cell_type": "markdown",
      "metadata": {},
      "source": [
        "\n# Simulations\n\nSimulate spiking activity.\n\nThis tutorial primarily covers the ``spiketools.sims`` module.\n"
      ]
    },
    {
      "cell_type": "markdown",
      "metadata": {},
      "source": [
        "## Simulation spiking data\n\n### Sections\n\nThis tutorial contains the following sections:\n\n1. Simulate spikes based on spiking probabilities\n2. Simulate spikes based on different probability distributions\n3. Utilities for working with simulated spiking data\n\n\n"
      ]
    },
    {
      "cell_type": "code",
      "execution_count": null,
      "metadata": {
        "collapsed": false
      },
      "outputs": [],
      "source": [
        "# Import auxiliary libraries\nimport numpy as np\n\n# Import simulation-related functions\nfrom spiketools.sim.train import sim_spiketrain_binom, sim_spiketrain_poisson, sim_spiketrain_prob\nfrom spiketools.sim.times import sim_spiketimes\nfrom spiketools.sim.utils import apply_refractory_times\n\n# Import plot functions\nfrom spiketools.plts.trials import plot_rasters\nfrom spiketools.plts.data import plot_hist\n\n# Import utitilies\nfrom spiketools.measures.conversions import convert_train_to_times"
      ]
    },
    {
      "cell_type": "markdown",
      "metadata": {},
      "source": [
        "### 1. Simulate spikes based on spiking probabilities\n\n\n"
      ]
    },
    {
      "cell_type": "code",
      "execution_count": null,
      "metadata": {
        "collapsed": false
      },
      "outputs": [],
      "source": [
        "# Simulate spike train of size n_samples and 1000 Hz sampling rate based on a probability of \n# spiking per sample\np_spiking = 0.7\nn_samples = 100\nsim_spiketrain = sim_spiketrain_prob(p_spiking, n_samples)\n\n# Convert binary spike train to spike times in seconds\nspike_times = convert_train_to_times(sim_spiketrain, fs=1000)\n\n# Print the first 10 spikes from spike train and spike times\nprint('Spike train data:', sim_spiketrain[:10])\nprint('Spike times data:', spike_times[:10])\n\n# Plot the spike times\nplot_rasters(spike_times)"
      ]
    },
    {
      "cell_type": "code",
      "execution_count": null,
      "metadata": {
        "collapsed": false
      },
      "outputs": [],
      "source": [
        "# Simulate spike train of size 1000 and 1000 Hz sampling rate, based on a probability of spiking \n# per sample.\np_spiking = np.random.random(1000)\nsim_spiketrain = sim_spiketrain_prob(p_spiking)"
      ]
    },
    {
      "cell_type": "code",
      "execution_count": null,
      "metadata": {
        "collapsed": false
      },
      "outputs": [],
      "source": [
        "# Convert binary spike train to spike times in seconds\nspike_times = convert_train_to_times(sim_spiketrain, fs=1000)\n\n# Plot the probability distribution of spike times\nplot_hist(spike_times, density=1, bins=50,\n          xlabel='Spike Times (ms)', ylabel='Probability',\n          title='Probability Distribution of Spike Times')"
      ]
    },
    {
      "cell_type": "markdown",
      "metadata": {},
      "source": [
        "### 2. Simulate spikes based on different probability distributions\n\nSimulate spike train from binomial and Poisson probability distributions.\nSimulate spike times from Poisson probability distribution.\n\n\n"
      ]
    },
    {
      "cell_type": "code",
      "execution_count": null,
      "metadata": {
        "collapsed": false
      },
      "outputs": [],
      "source": [
        "# Simulate spike train from binomial probability distribution\np_spiking = 0.7\nspike_train = sim_spiketrain_binom(p_spiking, n_samples=100)\n\n# Convert binary spike train to spike times in seconds & plot the spike times\nspike_binomial = convert_train_to_times(spike_train, fs=1000)\nplot_rasters(spike_binomial)"
      ]
    },
    {
      "cell_type": "code",
      "execution_count": null,
      "metadata": {
        "collapsed": false
      },
      "outputs": [],
      "source": [
        "# Simulate spike train from a Poisson probability distribution\nspike_train = sim_spiketrain_poisson(16, 1000, 1000)\n\n# Convert the simulated binary spike train to spike times in seconds & plot the spike times\nspike_poisson = convert_train_to_times(spike_train, fs=1000)\nplot_rasters(spike_poisson)"
      ]
    },
    {
      "cell_type": "code",
      "execution_count": null,
      "metadata": {
        "collapsed": false
      },
      "outputs": [],
      "source": [
        "# Simulate spike times from a Poisson probability distribution\nspike_poisson = sim_spiketimes(.16, 100, 'poisson')\n# Plot the spike times\nplot_rasters(spike_poisson)"
      ]
    },
    {
      "cell_type": "markdown",
      "metadata": {},
      "source": [
        "### 3. Utilities for working with simulated spiking data\n\nApply a refractory period to a simulated spike train.\n\n\n"
      ]
    },
    {
      "cell_type": "code",
      "execution_count": null,
      "metadata": {
        "collapsed": false
      },
      "outputs": [],
      "source": [
        "# Apply a 0.003 seconds refractory period to the simulated spike train\nspike_ref = apply_refractory_times(spike_binomial, 0.003)\n\n# Convert binary spike train to spike times in seconds & plot the spike times\nspike_times = convert_train_to_times(spike_ref, fs=1000)\nplot_rasters(spike_times)"
      ]
    }
  ],
  "metadata": {
    "kernelspec": {
      "display_name": "Python 3",
      "language": "python",
      "name": "python3"
    },
    "language_info": {
      "codemirror_mode": {
        "name": "ipython",
        "version": 3
      },
      "file_extension": ".py",
      "mimetype": "text/x-python",
      "name": "python",
      "nbconvert_exporter": "python",
      "pygments_lexer": "ipython3",
      "version": "3.8.3"
    }
  },
  "nbformat": 4,
  "nbformat_minor": 0
}