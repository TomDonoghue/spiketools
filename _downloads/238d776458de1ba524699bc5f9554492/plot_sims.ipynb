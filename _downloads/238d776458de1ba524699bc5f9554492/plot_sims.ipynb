{
  "cells": [
    {
      "cell_type": "markdown",
      "metadata": {},
      "source": [
        "\n# Simulations\n\nSimulate spiking activity.\n\nThis tutorial primarily covers the ``spiketools.sims`` module.\n"
      ]
    },
    {
      "cell_type": "markdown",
      "metadata": {},
      "source": [
        "## Simulating spiking data\n\nThis tutorial explores functionality for simulating spiking activity, including simulating\nspike times or spike trains, each with different available approaches.\n\n### Sections\n\nThis tutorial covers the following topics:\n\n1. Simulating spike times, based on specified distributions\n2. Simulating spike trains, based on spike probability or specified distributions\n3. Simulating trials of spiking data\n\n\n"
      ]
    },
    {
      "cell_type": "code",
      "execution_count": null,
      "metadata": {
        "collapsed": false
      },
      "outputs": [],
      "source": [
        "# Import auxiliary libraries\nimport numpy as np\n\n# Import simulation-related functions\nfrom spiketools.sim import sim_spiketimes, sim_spiketrain, sim_trials\nfrom spiketools.sim.times import sim_spiketimes_poisson\nfrom spiketools.sim.train import sim_spiketrain_binom, sim_spiketrain_poisson, sim_spiketrain_prob\nfrom spiketools.sim.trials import sim_trials_poisson\nfrom spiketools.sim.utils import apply_refractory_times, apply_refractory_train\n\n# Import plot functions\nfrom spiketools.plts.data import plot_lines\nfrom spiketools.plts.trials import plot_rasters\n\n# Import utilities\nfrom spiketools.measures.conversions import convert_train_to_times"
      ]
    },
    {
      "cell_type": "markdown",
      "metadata": {},
      "source": [
        "### Simulate spike times\n\nFirst we will simulate spike times.\n\nWe will start with the :func:`~.sim_spiketimes_poisson`, which simulates\nspike times from a Poisson distribution.\n\nThe function takes as input a `rate` and a `duration`.\n\n\n"
      ]
    },
    {
      "cell_type": "code",
      "execution_count": null,
      "metadata": {
        "collapsed": false
      },
      "outputs": [],
      "source": [
        "# Simulate spike times from a Poisson probability distribution\nspike_times_poisson = sim_spiketimes_poisson(rate=5, duration=2)\n\n# Plot the spike times\nplot_rasters(spike_times_poisson)"
      ]
    },
    {
      "cell_type": "markdown",
      "metadata": {},
      "source": [
        "#### General function for simulating spike times\n\nIn the above, we used a specific function for the spike time generation approach.\n\nThere is also the more general :func:`~.sim_spiketimes` function,\nwith allows for simulating spike times by specifying a method to do so.\n\n\n"
      ]
    },
    {
      "cell_type": "code",
      "execution_count": null,
      "metadata": {
        "collapsed": false
      },
      "outputs": [],
      "source": [
        "# Simulate a new spike train with the `sim_spiketimes` function\nspike_times = sim_spiketimes(7, 2.5, 'poisson')"
      ]
    },
    {
      "cell_type": "markdown",
      "metadata": {},
      "source": [
        "#### Refractory periods for simulated spike times\n\nWhen simulating spike times, we will often want to add a refractory time such that we\ndon't simulate spike times that are implausible close together.\n\nTo specify a refractory period, the `refractory` input takes a float value\nspecifying the refractory period, in seconds.\n\nThis `refractory` parameter is accepted by all the spike time simulation functions.\nNote that by default, the spike time simulation function apply a refractory period\nof 0.001 seconds (1 ms).\n\n\n"
      ]
    },
    {
      "cell_type": "code",
      "execution_count": null,
      "metadata": {
        "collapsed": false
      },
      "outputs": [],
      "source": [
        "# Simulate spike times with a specified refractory period\nspike_times = sim_spiketimes(7, 2.5, 'poisson', refractory=0.002)"
      ]
    },
    {
      "cell_type": "markdown",
      "metadata": {},
      "source": [
        "Behind the scenes, applying a refractory period to a set of spike times is done with the\n:func:`~.apply_refractory_times` function.\n\nWe can also use this function to apply a refractory period to\nan existing set of spike times.\n\n\n"
      ]
    },
    {
      "cell_type": "code",
      "execution_count": null,
      "metadata": {
        "collapsed": false
      },
      "outputs": [],
      "source": [
        "# Apply a 0.003 seconds refractory period to the simulated spike times\nspike_times_ref = apply_refractory_times(spike_times, 0.003)"
      ]
    },
    {
      "cell_type": "markdown",
      "metadata": {},
      "source": [
        "### Simulate spike train\n\nNext, let's simulate some spike trains.\n\n#### Simulating spike trains based on spiking probability\n\nFirst we will simulate spike train based on defining the probability of spiking, with the\n:func:`~.sim_spiketrain_prob` function.\n\nThis function takes the following inputs:\n- `p_spiking`, which is the probability (per sample) of spiking\n- `n_samples`, which is the number of samples to simulate\n\n\n"
      ]
    },
    {
      "cell_type": "code",
      "execution_count": null,
      "metadata": {
        "collapsed": false
      },
      "outputs": [],
      "source": [
        "# Define simulation settings\np_spiking = 0.7\nn_samples = 100\n\n# Simulate spike train based on a probability of spiking per sample\nspike_train_prob = sim_spiketrain_prob(p_spiking, n_samples)"
      ]
    },
    {
      "cell_type": "markdown",
      "metadata": {},
      "source": [
        "In order to visualize our simulated data, we can convert the spike train to spike times.\n\n\n"
      ]
    },
    {
      "cell_type": "code",
      "execution_count": null,
      "metadata": {
        "collapsed": false
      },
      "outputs": [],
      "source": [
        "# Convert spike train to spike times in seconds\nspike_times_prob = convert_train_to_times(spike_train_prob, fs=1000)\n\n# Print the first 10 spikes from spike train and spike times\nprint('Spike train data:', spike_train_prob[:10])\nprint('Spike times data:', spike_times_prob[:10])"
      ]
    },
    {
      "cell_type": "code",
      "execution_count": null,
      "metadata": {
        "collapsed": false
      },
      "outputs": [],
      "source": [
        "# Plot the spike times\nplot_rasters(spike_times_prob)"
      ]
    },
    {
      "cell_type": "markdown",
      "metadata": {},
      "source": [
        "In the above example, we specified a single spiking probability for all samples.\n\nWe can also specify different spiking probabilities across samples,\nsuch as in the following example.\n\n\n"
      ]
    },
    {
      "cell_type": "code",
      "execution_count": null,
      "metadata": {
        "collapsed": false
      },
      "outputs": [],
      "source": [
        "# Simulate spike train of size 100, based on randomly sampled probability of spiking per sample\nn_probs = 100\np_spiking = np.random.random(n_probs) / 10\n\n# Plot the continuous probabilities of spiking\nplot_lines(np.arange(n_probs), p_spiking)"
      ]
    },
    {
      "cell_type": "code",
      "execution_count": null,
      "metadata": {
        "collapsed": false
      },
      "outputs": [],
      "source": [
        "# Simulate spike train based on continuous probability of spiking\nspike_train_prob_diff = sim_spiketrain_prob(p_spiking)\n\n# Convert binary spike train to spike times in seconds\nspike_times_prob_diff = convert_train_to_times(spike_train_prob_diff, fs=1000)\n\n# Plot the spike times\nplot_rasters(spike_times_prob_diff)"
      ]
    },
    {
      "cell_type": "markdown",
      "metadata": {},
      "source": [
        "#### Simulate spike trains based on probability distributions\n\nAlternatively, we can simulate spike trains based on different probability distributions.\n\nOptions for doing so include:\n\n- :func:`~.sim_spiketrain_binom`, which simulates based on a binomial distribution\n- :func:`~.sim_spiketrain_poisson`, which simulates based on a Poisson distribution\n\n\n"
      ]
    },
    {
      "cell_type": "markdown",
      "metadata": {},
      "source": [
        "To simulate based on a binomial distribution, we define a probability of spiking, and\na number of samples to simulate.\n\n\n"
      ]
    },
    {
      "cell_type": "code",
      "execution_count": null,
      "metadata": {
        "collapsed": false
      },
      "outputs": [],
      "source": [
        "# Define simulation settings for binomial\np_spiking = 0.125\nn_samples = 500\n\n# Simulate spike train from binomial probability distribution\nspike_train_binom = sim_spiketrain_binom(p_spiking, n_samples)\n\n# Convert binary spike train to spike times in seconds and plot the spike times\nspike_times_binomial = convert_train_to_times(spike_train_binom, fs=1000)\nplot_rasters(spike_times_binomial)"
      ]
    },
    {
      "cell_type": "markdown",
      "metadata": {},
      "source": [
        "To simulate based on a Poisson distribution, we define a rate and a number of samples.\n\nYou can can also optionally change the sampling rate (defaults to 1000).\n\n\n"
      ]
    },
    {
      "cell_type": "code",
      "execution_count": null,
      "metadata": {
        "collapsed": false
      },
      "outputs": [],
      "source": [
        "# Define simulation settings for binomial\nrate = 25\nn_samples = 500\n\n# Simulate spike train from a Poisson probability distribution\nspike_train_poisson = sim_spiketrain_poisson(rate, n_samples)\n\n# Convert the simulated binary spike train to spike times in seconds & plot the spike times\nspike_times_poisson = convert_train_to_times(spike_train_poisson, fs=1000)\nplot_rasters(spike_times_poisson)"
      ]
    },
    {
      "cell_type": "markdown",
      "metadata": {},
      "source": [
        "#### General function for simulating spike trains\n\nIn the above, we used a specific function for the spike train generation approach.\n\nThere is also the more general :func:`~.sim_spiketrain` function,\nwith allows for simulating spike trains by specifying a method to do so.\n\n\n"
      ]
    },
    {
      "cell_type": "code",
      "execution_count": null,
      "metadata": {
        "collapsed": false
      },
      "outputs": [],
      "source": [
        "# Use 'sim_spiketrain' to simulate two new spiketrains, with different methods\nspike_train1 = sim_spiketrain(0.05, 500, 'binom')\nspike_train2 = sim_spiketrain(12.0, 500, 'poisson')"
      ]
    },
    {
      "cell_type": "markdown",
      "metadata": {},
      "source": [
        "#### Refractory periods for simulated spike trains\n\nSimilar to the spike time simulations, when simulating spike trains we may want to\nspecify a refractory period. This can be specified with the `refractory` parameter,\nwhich in this case accepts an integer value of the number of samples that are refractory\nafter a spike.\n\nThe `refractory` parameter is accepted by all spike train simulation functions,\nand has a default of 1 sample.\n\n\n"
      ]
    },
    {
      "cell_type": "code",
      "execution_count": null,
      "metadata": {
        "collapsed": false
      },
      "outputs": [],
      "source": [
        "# Simulate spike times with a specified refractory period\nspike_train = sim_spiketrain(0.05, 500, 'binom', refractory=2)"
      ]
    },
    {
      "cell_type": "markdown",
      "metadata": {},
      "source": [
        "Refractory times for spike trains are applied with the\n:func:`~.apply_refractory_train` function, which can also be used independently.\n\n\n"
      ]
    },
    {
      "cell_type": "code",
      "execution_count": null,
      "metadata": {
        "collapsed": false
      },
      "outputs": [],
      "source": [
        "# Apply a 3 sample refractory period to the simulated spike trains\nspike_train_ref1 = apply_refractory_train(spike_train1, 3)\nspike_train_ref2 = apply_refractory_train(spike_train2, 3)\n\n# Plot the simulated data\nspike_times1 = convert_train_to_times(spike_train_ref1, fs=1000)\nspike_times2 = convert_train_to_times(spike_train_ref2, fs=1000)\nplot_rasters([spike_times1, spike_times2])"
      ]
    },
    {
      "cell_type": "markdown",
      "metadata": {},
      "source": [
        "### Simulate trials\n\nFinally, we can simulate some data organized into trials.\n\nNote that the functions for simulating trials simulate the underlying spiking activity the\nsame as the above functions. These functions provide a convenient way for organizing such\nsimulated data into trials.\n\nThe trials functions simulate spike times. Similarly to the spike time simulations above,\nthe :func:`~.sim_trials_poisson` function does so based on a Poisson distribution.\n\nThis function allows us to specify different rates for pre and post event time.\n\n\n"
      ]
    },
    {
      "cell_type": "code",
      "execution_count": null,
      "metadata": {
        "collapsed": false
      },
      "outputs": [],
      "source": [
        "# Define simulation settings\nn_trials = 4\nrate_pre = 7.5\nrate_post = 15\n\n# Simulate spiking activity across trials\ntrial_spikes = sim_trials_poisson(n_trials, rate_pre, rate_post)"
      ]
    },
    {
      "cell_type": "code",
      "execution_count": null,
      "metadata": {
        "collapsed": false
      },
      "outputs": [],
      "source": [
        "# Visualize the simulate trial related data\nplot_rasters(trial_spikes, vline=0)"
      ]
    },
    {
      "cell_type": "markdown",
      "metadata": {},
      "source": [
        "#### General function for simulating trials\n\nJust as we had for the simulations above, we can simulate trial data either by using a\nspecific simulation function, or by calling a more general function and specifying which\nmethod to use.\n\nFor trials data, the more general function is :func:`~.sim_trials`.\n\n\n"
      ]
    },
    {
      "cell_type": "code",
      "execution_count": null,
      "metadata": {
        "collapsed": false
      },
      "outputs": [],
      "source": [
        "# Define a new set of simulation settings\nrate_pre = 2.5\nrate_post = 5\ntime_pre = 2\ntime_post = 4\n\n# Simulate a new set of simulated trials\ntrial_spikes2 = sim_trials(n_trials, 'poisson',\n                           rate_pre=rate_pre, rate_post=rate_post,\n                           time_pre=time_pre, time_post=time_post)"
      ]
    },
    {
      "cell_type": "code",
      "execution_count": null,
      "metadata": {
        "collapsed": false
      },
      "outputs": [],
      "source": [
        "# Visualize the simulate trial related data\nplot_rasters(trial_spikes2, vline=0)"
      ]
    }
  ],
  "metadata": {
    "kernelspec": {
      "display_name": "Python 3",
      "language": "python",
      "name": "python3"
    },
    "language_info": {
      "codemirror_mode": {
        "name": "ipython",
        "version": 3
      },
      "file_extension": ".py",
      "mimetype": "text/x-python",
      "name": "python",
      "nbconvert_exporter": "python",
      "pygments_lexer": "ipython3",
      "version": "3.8.11"
    }
  },
  "nbformat": 4,
  "nbformat_minor": 0
}