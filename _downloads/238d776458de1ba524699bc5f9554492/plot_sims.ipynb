{
  "cells": [
    {
      "cell_type": "markdown",
      "metadata": {},
      "source": [
        "\n# Simulations\n\nSimulate spiking activity.\n\nThis tutorial primarily covers the ``spiketools.sims`` module.\n"
      ]
    },
    {
      "cell_type": "markdown",
      "metadata": {},
      "source": [
        "## Simulating spiking data\n\n### Sections\n\nThis tutorial contains the following topics:\n\n1. Simulating spike times, based on specified distributions\n2. Simulating spike trains, based on spike probability or specified distributions\n3. Utilities for working with simulated spiking data\n\n\n"
      ]
    },
    {
      "cell_type": "code",
      "execution_count": null,
      "metadata": {
        "collapsed": false
      },
      "outputs": [],
      "source": [
        "# Import auxiliary libraries\nimport numpy as np\n\n# Import simulation-related functions\nfrom spiketools.sim import sim_spiketimes, sim_spiketrain\nfrom spiketools.sim.times import sim_spiketimes_poisson\nfrom spiketools.sim.train import sim_spiketrain_binom, sim_spiketrain_poisson, sim_spiketrain_prob\nfrom spiketools.sim.utils import apply_refractory_times, apply_refractory_train\n\n# Import plot functions\nfrom spiketools.plts.trials import plot_rasters\nfrom spiketools.plts.data import plot_hist\n\n# Import utilities\nfrom spiketools.measures.conversions import convert_train_to_times"
      ]
    },
    {
      "cell_type": "markdown",
      "metadata": {},
      "source": [
        "### Simulate spike times\n\nFirst we will simulate spike times.\n\nWe will start with the :func:`~.sim_spiketimes_poisson`, which simulates\nspike times from a Poisson distribution.\n\nThe function takes as input a `rate` and a `duration`.\n\n\n"
      ]
    },
    {
      "cell_type": "code",
      "execution_count": null,
      "metadata": {
        "collapsed": false
      },
      "outputs": [],
      "source": [
        "# Simulate spike times from a Poisson probability distribution\nspike_times_poisson = sim_spiketimes_poisson(rate=5, duration=2)\n\n# Plot the spike times\nplot_rasters(spike_times_poisson)"
      ]
    },
    {
      "cell_type": "markdown",
      "metadata": {},
      "source": [
        "#### General function for simulation spike times\n\nIn the above, we used a specific function for the spike time generation approach.\n\nThere is also the more general :func:`~.sim_spiketimes` function,\nwith allows for simulating spike times by specifying a method to do so.\n\n\n"
      ]
    },
    {
      "cell_type": "code",
      "execution_count": null,
      "metadata": {
        "collapsed": false
      },
      "outputs": [],
      "source": [
        "# Simulate a new spike train with the `sim_spiketimes` function\nspike_times = sim_spiketimes(7, 2.5, 'poisson')"
      ]
    },
    {
      "cell_type": "markdown",
      "metadata": {},
      "source": [
        "#### Refractory periods for simulated spike times\n\nWhen simulating spike times, we will often want to add a refractory time such that we\ndon't simulate spike times that are implausible close together.\n\nTo specify a refractory period, the `refractory` input takes a float value\nspecifying the refractory period, in seconds.\n\nThis `refractory` parameter is accepted by all the spike time simulation functions.\nNote that by default, the spike time simulation function apply a refractory period\nof 0.001 seconds (1 ms).\n\n\n"
      ]
    },
    {
      "cell_type": "code",
      "execution_count": null,
      "metadata": {
        "collapsed": false
      },
      "outputs": [],
      "source": [
        "# Simulate spike times with a specified refractory period\nspike_times = sim_spiketimes(7, 2.5, 'poisson', refractory=0.002)"
      ]
    },
    {
      "cell_type": "markdown",
      "metadata": {},
      "source": [
        "Behind the scenes, applying a refractory period to a set of spike times is done with the\n:func:`~.apply_refractory_times` function.\n\nWe can also use this function to apply a refractory period to\nan existing set of spike times.\n\n\n"
      ]
    },
    {
      "cell_type": "code",
      "execution_count": null,
      "metadata": {
        "collapsed": false
      },
      "outputs": [],
      "source": [
        "# Apply a 0.003 seconds refractory period to the simulated spike times\nspike_times_ref = apply_refractory_times(spike_times, 0.003)"
      ]
    },
    {
      "cell_type": "markdown",
      "metadata": {},
      "source": [
        "### Simulate spike train\n\nNext, let's simulate some spike trains.\n\n#### Simulating spike trains based on spiking probability\n\nFirst we will simulate spike train based on defining the probability of spiking, with the\n:func:`~.sim_spiketrain_prob` function.\n\nThis function takes the following inputs:\n- `p_spiking`, which is the probability (per sample) of spiking\n- `n_samples`, which is the number of samples to simulate\n\n\n"
      ]
    },
    {
      "cell_type": "code",
      "execution_count": null,
      "metadata": {
        "collapsed": false
      },
      "outputs": [],
      "source": [
        "# Define simulation settings\np_spiking = 0.7\nn_samples = 100\n\n# Simulate spike train based on a probability of spiking per sample\nspike_train_prob = sim_spiketrain_prob(p_spiking, n_samples)"
      ]
    },
    {
      "cell_type": "markdown",
      "metadata": {},
      "source": [
        "In order to visualize our simulated data, we can convert the spike train to spike times.\n\n\n"
      ]
    },
    {
      "cell_type": "code",
      "execution_count": null,
      "metadata": {
        "collapsed": false
      },
      "outputs": [],
      "source": [
        "# Convert spike train to spike times in seconds\nspike_times_prob = convert_train_to_times(spike_train_prob, fs=1000)\n\n# Print the first 10 spikes from spike train and spike times\nprint('Spike train data:', spike_train_prob[:10])\nprint('Spike times data:', spike_times_prob[:10])"
      ]
    },
    {
      "cell_type": "code",
      "execution_count": null,
      "metadata": {
        "collapsed": false
      },
      "outputs": [],
      "source": [
        "# Plot the spike times\nplot_rasters(spike_times_prob)"
      ]
    },
    {
      "cell_type": "markdown",
      "metadata": {},
      "source": [
        "In the above example, we specified a single spiking probability for all samples.\n\nWe can also specify different spiking probability across samples,\nsuch as in the following example.\n\n\n"
      ]
    },
    {
      "cell_type": "code",
      "execution_count": null,
      "metadata": {
        "collapsed": false
      },
      "outputs": [],
      "source": [
        "# Simulate spike train of size 1000, based on a probability of spiking per sample\np_spiking = np.random.random(1000)\nspike_train_prob_diff = sim_spiketrain_prob(p_spiking)"
      ]
    },
    {
      "cell_type": "code",
      "execution_count": null,
      "metadata": {
        "collapsed": false
      },
      "outputs": [],
      "source": [
        "# Convert binary spike train to spike times in seconds\nspike_times_prob_diff = convert_train_to_times(spike_train_prob_diff, fs=1000)\n\n# Plot the empirical distribution of spike times probability across the simulated data\nplot_hist(spike_times_prob_diff, density=1, bins=50,\n          xlabel='Spike Times (seconds)', ylabel='Probability',\n          title='Probability Distribution of Spike Times')"
      ]
    },
    {
      "cell_type": "markdown",
      "metadata": {},
      "source": [
        "#### Simulate spike trains based on probability distributions\n\nAlternatively, we can simulate spike trains based on different probability distributions.\n\nOptions for doing so include:\n\n- :func:`~.sim_spiketrain_binom`, which simulates based on a binomial distribution\n- :func:`~.sim_spiketrain_poisson`, which simulates based on a Poisson distribution\n\n\n"
      ]
    },
    {
      "cell_type": "code",
      "execution_count": null,
      "metadata": {
        "collapsed": false
      },
      "outputs": [],
      "source": [
        "# Define simulation settings\np_spiking = 0.7\n\n# Simulate spike train from binomial probability distribution\nspike_train_binom = sim_spiketrain_binom(p_spiking, n_samples=100)\n\n# Convert binary spike train to spike times in seconds & plot the spike times\nspike_times_binomial = convert_train_to_times(spike_train_binom, fs=1000)\nplot_rasters(spike_times_binomial)"
      ]
    },
    {
      "cell_type": "code",
      "execution_count": null,
      "metadata": {
        "collapsed": false
      },
      "outputs": [],
      "source": [
        "# Simulate spike train from a Poisson probability distribution\nspike_train_poisson = sim_spiketrain_poisson(16, 1000, 1000)\n\n# Convert the simulated binary spike train to spike times in seconds & plot the spike times\nspike_times_poisson = convert_train_to_times(spike_train_poisson, fs=1000)\nplot_rasters(spike_times_poisson)"
      ]
    },
    {
      "cell_type": "markdown",
      "metadata": {},
      "source": [
        "#### General function for simulation spike trains\n\nIn the above, we used a specific function for the spike train generation approach.\n\nThere is also the more general :func:`~.sim_spiketrain` function,\nwith allows for simulating spike trains by specifying a method to do so.\n\n\n"
      ]
    },
    {
      "cell_type": "code",
      "execution_count": null,
      "metadata": {
        "collapsed": false
      },
      "outputs": [],
      "source": [
        "# Use 'sim_spiketrain' to simulate two new spiketrains, with different methods\nspike_train1 = sim_spiketrain(0.05, 500, 'binom')\nspike_train2 = sim_spiketrain(12.0, 500, 'poisson')"
      ]
    },
    {
      "cell_type": "markdown",
      "metadata": {},
      "source": [
        "#### Refractory periods for simulated spike trains\n\nSimilarly to the spike time simulations, when simulating spike trains we may\nwant to specify a refractory period, which we can again do with the\n`refractory` parameter, which in this case accepts an integer value of the\nnumber of samples that are refractory after a spike.\n\nThis `refractory` parameter is accepted by all spike train simulation functions,\nand has a default of 1 sample.\n\n\n"
      ]
    },
    {
      "cell_type": "code",
      "execution_count": null,
      "metadata": {
        "collapsed": false
      },
      "outputs": [],
      "source": [
        "# Simulate spike times with a specified refractory period\nspike_train = sim_spiketrain(0.05, 500, 'binom', refractory=2)"
      ]
    },
    {
      "cell_type": "markdown",
      "metadata": {},
      "source": [
        "Refractory times for spike trains are applied with the\n:func:`~.apply_refractory_train` function, which can also be used independently.\n\n\n"
      ]
    },
    {
      "cell_type": "code",
      "execution_count": null,
      "metadata": {
        "collapsed": false
      },
      "outputs": [],
      "source": [
        "# Apply a 3 sample refractory period to the simulated spike trains\nspike_train_ref1 = apply_refractory_train(spike_train1, 3)\nspike_train_ref2 = apply_refractory_train(spike_train2, 3)\n\n# Plot the simulated data\nspike_times1 = convert_train_to_times(spike_train_ref1, fs=1000)\nspike_times2 = convert_train_to_times(spike_train_ref2, fs=1000)\nplot_rasters([spike_times1, spike_times2])"
      ]
    }
  ],
  "metadata": {
    "kernelspec": {
      "display_name": "Python 3",
      "language": "python",
      "name": "python3"
    },
    "language_info": {
      "codemirror_mode": {
        "name": "ipython",
        "version": 3
      },
      "file_extension": ".py",
      "mimetype": "text/x-python",
      "name": "python",
      "nbconvert_exporter": "python",
      "pygments_lexer": "ipython3",
      "version": "3.8.3"
    }
  },
  "nbformat": 4,
  "nbformat_minor": 0
}